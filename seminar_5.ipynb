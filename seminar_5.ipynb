{
 "cells": [
  {
   "cell_type": "code",
   "execution_count": 1,
   "metadata": {
    "collapsed": true
   },
   "outputs": [],
   "source": [
    "import requests"
   ]
  },
  {
   "cell_type": "code",
   "execution_count": null,
   "metadata": {
    "collapsed": true
   },
   "outputs": [],
   "source": [
    "#http://www.astro.spbu.ru/staff/afk/Teaching/Help/Tegs.htm"
   ]
  },
  {
   "cell_type": "code",
   "execution_count": 4,
   "metadata": {
    "collapsed": true
   },
   "outputs": [],
   "source": [
    "from bs4 import BeautifulSoup\n"
   ]
  },
  {
   "cell_type": "code",
   "execution_count": 2,
   "metadata": {
    "collapsed": true
   },
   "outputs": [],
   "source": [
    "resp = requests.get('https://candidates.golosinfo.org/')"
   ]
  },
  {
   "cell_type": "code",
   "execution_count": 5,
   "metadata": {
    "collapsed": true
   },
   "outputs": [],
   "source": [
    "resp = requests.get('https://candidates.golosinfo.org/p?utf8=✓&q[sort]=&q[n]=&q[ed]=&q[s]=&q[p]=&q[r]=Алтайский+край&q[distr]=&q[group]=&q[elvl]=&search=Искать')"
   ]
  },
  {
   "cell_type": "code",
   "execution_count": 9,
   "metadata": {
    "collapsed": true
   },
   "outputs": [],
   "source": [
    "resp = requests.get('https://candidates.golosinfo.org/p?q[r]=Алтайский+край')"
   ]
  },
  {
   "cell_type": "code",
   "execution_count": 13,
   "metadata": {
    "collapsed": true
   },
   "outputs": [],
   "source": [
    "soup = BeautifulSoup(resp.text, 'lxml')\n",
    "#header = soup.find(\"div\", class_=\"search_header_text\")"
   ]
  },
  {
   "cell_type": "code",
   "execution_count": 37,
   "metadata": {},
   "outputs": [
    {
     "data": {
      "text/plain": [
       "bs4.BeautifulSoup"
      ]
     },
     "execution_count": 37,
     "metadata": {},
     "output_type": "execute_result"
    }
   ],
   "source": [
    "type(soup)"
   ]
  },
  {
   "cell_type": "code",
   "execution_count": 17,
   "metadata": {
    "collapsed": true
   },
   "outputs": [],
   "source": [
    "all_candidates = soup.find_all('table', class_ = \"ui structured small celled table\")"
   ]
  },
  {
   "cell_type": "code",
   "execution_count": 38,
   "metadata": {},
   "outputs": [
    {
     "data": {
      "text/plain": [
       "bs4.element.ResultSet"
      ]
     },
     "execution_count": 38,
     "metadata": {},
     "output_type": "execute_result"
    }
   ],
   "source": [
    "type(all_candidates)"
   ]
  },
  {
   "cell_type": "code",
   "execution_count": 19,
   "metadata": {},
   "outputs": [
    {
     "data": {
      "text/plain": [
       "1"
      ]
     },
     "execution_count": 19,
     "metadata": {},
     "output_type": "execute_result"
    }
   ],
   "source": [
    "len(all_candidates)"
   ]
  },
  {
   "cell_type": "code",
   "execution_count": 29,
   "metadata": {
    "collapsed": true
   },
   "outputs": [],
   "source": [
    "tbody = all_candidates[0].find_all('tbody')"
   ]
  },
  {
   "cell_type": "code",
   "execution_count": 39,
   "metadata": {},
   "outputs": [
    {
     "data": {
      "text/plain": [
       "bs4.element.ResultSet"
      ]
     },
     "execution_count": 39,
     "metadata": {},
     "output_type": "execute_result"
    }
   ],
   "source": [
    "type(tbody)"
   ]
  },
  {
   "cell_type": "code",
   "execution_count": 43,
   "metadata": {},
   "outputs": [
    {
     "data": {
      "text/plain": [
       "bs4.element.Tag"
      ]
     },
     "execution_count": 43,
     "metadata": {},
     "output_type": "execute_result"
    }
   ],
   "source": [
    "type(tbody[0])"
   ]
  },
  {
   "cell_type": "code",
   "execution_count": 30,
   "metadata": {
    "collapsed": true
   },
   "outputs": [],
   "source": [
    "list_of_candidates = tbody[0].find_all('tr', class_ = \"top aligned\")"
   ]
  },
  {
   "cell_type": "code",
   "execution_count": 40,
   "metadata": {},
   "outputs": [
    {
     "data": {
      "text/plain": [
       "bs4.element.ResultSet"
      ]
     },
     "execution_count": 40,
     "metadata": {},
     "output_type": "execute_result"
    }
   ],
   "source": [
    "type(list_of_candidates)"
   ]
  },
  {
   "cell_type": "code",
   "execution_count": 42,
   "metadata": {},
   "outputs": [
    {
     "data": {
      "text/plain": [
       "bs4.element.Tag"
      ]
     },
     "execution_count": 42,
     "metadata": {},
     "output_type": "execute_result"
    }
   ],
   "source": [
    "type(list_of_candidates[0])"
   ]
  },
  {
   "cell_type": "code",
   "execution_count": 31,
   "metadata": {},
   "outputs": [
    {
     "data": {
      "text/plain": [
       "25"
      ]
     },
     "execution_count": 31,
     "metadata": {},
     "output_type": "execute_result"
    }
   ],
   "source": [
    "len(list_of_candidates)"
   ]
  },
  {
   "cell_type": "markdown",
   "metadata": {},
   "source": [
    "<font size = 4> В итоге хотим написать функцию для обработки информации по кандидату </font>\n",
    "\n",
    "\n",
    "def extract_main_info(candidate):\n",
    "    "
   ]
  },
  {
   "cell_type": "code",
   "execution_count": 34,
   "metadata": {},
   "outputs": [
    {
     "data": {
      "text/plain": [
       "<tr class=\"top aligned\">\n",
       "<td>\n",
       "<a class=\"b\" href=\"/p/926513-abaydulin-damir-feritovich\">Абайдулин Дамир Фэритович</a>\n",
       "<p>\n",
       "<small class=\"help\">1981 г.р.</small>\n",
       "</p>\n",
       "</td>\n",
       "<td>\n",
       "<small>\n",
       "</small><p>10.09.2017 Выборы депутатов Малобащелакского сельского Совета народных депутатов Чарышского района Алтайского края четвертого созыва</p>\n",
       "<p>Округ: 1</p>\n",
       "</td>\n",
       "<td>\n",
       "                      СПРАВЕДЛИВАЯ РОССИЯ\n",
       "                    </td>\n",
       "<td>\n",
       "<p>—</p>\n",
       "<p>временно неработающий</p>\n",
       "<p>Новосибирский государственный технический университет, 2003</p>\n",
       "</td>\n",
       "</tr>"
      ]
     },
     "execution_count": 34,
     "metadata": {},
     "output_type": "execute_result"
    }
   ],
   "source": [
    "list_of_candidates[0]"
   ]
  },
  {
   "cell_type": "code",
   "execution_count": 33,
   "metadata": {
    "collapsed": true
   },
   "outputs": [],
   "source": [
    "try_var = list_of_candidates[0]"
   ]
  },
  {
   "cell_type": "code",
   "execution_count": 89,
   "metadata": {},
   "outputs": [
    {
     "data": {
      "text/plain": [
       "<tr class=\"top aligned\">\n",
       "<td>\n",
       "<a class=\"b\" href=\"/p/926513-abaydulin-damir-feritovich\">Абайдулин Дамир Фэритович</a>\n",
       "<p>\n",
       "<small class=\"help\">1981 г.р.</small>\n",
       "</p>\n",
       "</td>\n",
       "<td>\n",
       "<small>\n",
       "</small><p>10.09.2017 Выборы депутатов Малобащелакского сельского Совета народных депутатов Чарышского района Алтайского края четвертого созыва</p>\n",
       "<p>Округ: 1</p>\n",
       "</td>\n",
       "<td>\n",
       "                      СПРАВЕДЛИВАЯ РОССИЯ\n",
       "                    </td>\n",
       "<td>\n",
       "<p>—</p>\n",
       "<p>временно неработающий</p>\n",
       "<p>Новосибирский государственный технический университет, 2003</p>\n",
       "</td>\n",
       "</tr>"
      ]
     },
     "execution_count": 89,
     "metadata": {},
     "output_type": "execute_result"
    }
   ],
   "source": [
    "try_var"
   ]
  },
  {
   "cell_type": "code",
   "execution_count": 36,
   "metadata": {},
   "outputs": [
    {
     "data": {
      "text/plain": [
       "bs4.element.Tag"
      ]
     },
     "execution_count": 36,
     "metadata": {},
     "output_type": "execute_result"
    }
   ],
   "source": [
    "type(try_var)"
   ]
  },
  {
   "cell_type": "code",
   "execution_count": 198,
   "metadata": {},
   "outputs": [
    {
     "data": {
      "text/plain": [
       "<tr class=\"top aligned\">\n",
       "<td>\n",
       "<a class=\"b\" href=\"/p/926513-abaydulin-damir-feritovich\">Абайдулин Дамир Фэритович</a>\n",
       "<p>\n",
       "<small class=\"help\">1981 г.р.</small>\n",
       "</p>\n",
       "</td>\n",
       "<td>\n",
       "<small>\n",
       "</small><p>10.09.2017 Выборы депутатов Малобащелакского сельского Совета народных депутатов Чарышского района Алтайского края четвертого созыва</p>\n",
       "<p>Округ: 1</p>\n",
       "</td>\n",
       "<td>\n",
       "                      СПРАВЕДЛИВАЯ РОССИЯ\n",
       "                    </td>\n",
       "<td>\n",
       "<p>—</p>\n",
       "<p>временно неработающий</p>\n",
       "<p>Новосибирский государственный технический университет, 2003</p>\n",
       "</td>\n",
       "</tr>"
      ]
     },
     "execution_count": 198,
     "metadata": {},
     "output_type": "execute_result"
    }
   ],
   "source": [
    "try_var"
   ]
  },
  {
   "cell_type": "code",
   "execution_count": 204,
   "metadata": {
    "collapsed": true
   },
   "outputs": [],
   "source": [
    "info_all = try_var.find_all('td')"
   ]
  },
  {
   "cell_type": "code",
   "execution_count": 211,
   "metadata": {},
   "outputs": [
    {
     "data": {
      "text/plain": [
       "<td>\n",
       "<a class=\"b\" href=\"/p/926513-abaydulin-damir-feritovich\">Абайдулин Дамир Фэритович</a>\n",
       "<p>\n",
       "<small class=\"help\">1981 г.р.</small>\n",
       "</p>\n",
       "</td>"
      ]
     },
     "execution_count": 211,
     "metadata": {},
     "output_type": "execute_result"
    }
   ],
   "source": [
    "info_all[0]"
   ]
  },
  {
   "cell_type": "code",
   "execution_count": 210,
   "metadata": {
    "collapsed": true
   },
   "outputs": [],
   "source": [
    "base_info = info_all[0]\n",
    "elect_info = info_all[1]\n",
    "polit_party = info_all[2]\n",
    "educ_job = info_all[3]"
   ]
  },
  {
   "cell_type": "code",
   "execution_count": 212,
   "metadata": {},
   "outputs": [
    {
     "name": "stdout",
     "output_type": "stream",
     "text": [
      "/p/926513-abaydulin-damir-feritovich\n"
     ]
    }
   ],
   "source": [
    "ref1 = base_info.a.get('href')\n",
    "print(ref1)"
   ]
  },
  {
   "cell_type": "code",
   "execution_count": 213,
   "metadata": {},
   "outputs": [
    {
     "name": "stdout",
     "output_type": "stream",
     "text": [
      "/p/926513-abaydulin-damir-feritovich\n"
     ]
    }
   ],
   "source": [
    "ref2 = base_info.find('a').get('href')\n",
    "print(ref2)"
   ]
  },
  {
   "cell_type": "code",
   "execution_count": 214,
   "metadata": {},
   "outputs": [
    {
     "name": "stdout",
     "output_type": "stream",
     "text": [
      "Абайдулин Дамир Фэритович\n"
     ]
    }
   ],
   "source": [
    "fio = base_info.find('a').getText()\n",
    "print(fio)"
   ]
  },
  {
   "cell_type": "code",
   "execution_count": 71,
   "metadata": {
    "collapsed": true
   },
   "outputs": [],
   "source": [
    "fio_list = fio.split(' ')"
   ]
  },
  {
   "cell_type": "code",
   "execution_count": 72,
   "metadata": {},
   "outputs": [
    {
     "data": {
      "text/plain": [
       "['Абайдулин', 'Дамир', 'Фэритович']"
      ]
     },
     "execution_count": 72,
     "metadata": {},
     "output_type": "execute_result"
    }
   ],
   "source": [
    "fio_list"
   ]
  },
  {
   "cell_type": "code",
   "execution_count": 215,
   "metadata": {
    "collapsed": true
   },
   "outputs": [],
   "source": [
    "birthyear = info[0].find('small', class_ = 'help').getText() # {'class':'help'}"
   ]
  },
  {
   "cell_type": "code",
   "execution_count": null,
   "metadata": {
    "collapsed": true
   },
   "outputs": [],
   "source": []
  },
  {
   "cell_type": "code",
   "execution_count": 216,
   "metadata": {},
   "outputs": [
    {
     "data": {
      "text/plain": [
       "'1981 г.р.'"
      ]
     },
     "execution_count": 216,
     "metadata": {},
     "output_type": "execute_result"
    }
   ],
   "source": [
    "birthyear"
   ]
  },
  {
   "cell_type": "code",
   "execution_count": 217,
   "metadata": {
    "collapsed": true
   },
   "outputs": [],
   "source": [
    "birthyear = birthyear.replace(' г.р.', '')"
   ]
  },
  {
   "cell_type": "code",
   "execution_count": 218,
   "metadata": {
    "collapsed": true
   },
   "outputs": [],
   "source": [
    "birthyear = int(birthyear)"
   ]
  },
  {
   "cell_type": "code",
   "execution_count": 219,
   "metadata": {},
   "outputs": [
    {
     "data": {
      "text/plain": [
       "1981"
      ]
     },
     "execution_count": 219,
     "metadata": {},
     "output_type": "execute_result"
    }
   ],
   "source": [
    "birthyear"
   ]
  },
  {
   "cell_type": "code",
   "execution_count": 220,
   "metadata": {},
   "outputs": [
    {
     "data": {
      "text/plain": [
       "<td>\n",
       "<small>\n",
       "</small><p>10.09.2017 Выборы депутатов Малобащелакского сельского Совета народных депутатов Чарышского района Алтайского края четвертого созыва</p>\n",
       "<p>Округ: 1</p>\n",
       "</td>"
      ]
     },
     "execution_count": 220,
     "metadata": {},
     "output_type": "execute_result"
    }
   ],
   "source": [
    "elect_info"
   ]
  },
  {
   "cell_type": "code",
   "execution_count": 225,
   "metadata": {
    "collapsed": true
   },
   "outputs": [],
   "source": [
    "elections = elect_info.find_all('p')"
   ]
  },
  {
   "cell_type": "code",
   "execution_count": 226,
   "metadata": {},
   "outputs": [
    {
     "data": {
      "text/plain": [
       "[<p>10.09.2017 Выборы депутатов Малобащелакского сельского Совета народных депутатов Чарышского района Алтайского края четвертого созыва</p>,\n",
       " <p>Округ: 1</p>]"
      ]
     },
     "execution_count": 226,
     "metadata": {},
     "output_type": "execute_result"
    }
   ],
   "source": [
    "elections"
   ]
  },
  {
   "cell_type": "code",
   "execution_count": 102,
   "metadata": {
    "collapsed": true
   },
   "outputs": [],
   "source": [
    "import re"
   ]
  },
  {
   "cell_type": "code",
   "execution_count": 227,
   "metadata": {
    "collapsed": true
   },
   "outputs": [],
   "source": [
    "elections_text = elections[0].getText()"
   ]
  },
  {
   "cell_type": "code",
   "execution_count": 228,
   "metadata": {},
   "outputs": [
    {
     "name": "stdout",
     "output_type": "stream",
     "text": [
      "['10.09.2017']\n"
     ]
    }
   ],
   "source": [
    "elect_date = re.findall('\\d+.\\d+.\\d+',elections_text)\n",
    "print(elect_date)"
   ]
  },
  {
   "cell_type": "markdown",
   "metadata": {},
   "source": [
    "Оператор\tОписание\n",
    ".\tОдин любой символ, кроме новой строки \\n.\n",
    "\n",
    "?\t0 или 1 вхождение шаблона слева\n",
    "\n",
    "экр +\t1 и более вхождений шаблона слева\n",
    "\n",
    "экр *\t0 и более вхождений шаблона слева\n",
    "\n",
    "\\w\tЛюбая цифра или буква (\\W — все, кроме буквы или цифры)\n",
    "\n",
    "\\d\tЛюбая цифра [0-9] (\\D — все, кроме цифры)\n",
    "\n",
    "\\s\tЛюбой пробельный символ (\\S — любой непробельнй символ)\n",
    "\n",
    "\\b\tГраница слова\n",
    "\n",
    "[..]\tОдин из символов в скобках ([^..] — любой символ, кроме тех, что в скобках)\n",
    "\n",
    "\\\tЭкранирование специальных символов (\\. означает точку или \\+ — знак «плюс»)\n",
    "\n",
    "^ и $\tНачало и конец строки соответственно\n",
    "\n",
    "{n,m}\tОт n до m вхождений ({,m} — от 0 до m)\n",
    "\n",
    "a|b\tСоответствует a или b\n",
    "\n",
    "()\tГруппирует выражение и возвращает найденный текст\n",
    "\n",
    "\\t, \\n, \\r\tСимвол табуляции, новой строки и возврата каретки соответственно\n"
   ]
  },
  {
   "cell_type": "code",
   "execution_count": 229,
   "metadata": {},
   "outputs": [
    {
     "data": {
      "text/plain": [
       "['10', '09', '2017']"
      ]
     },
     "execution_count": 229,
     "metadata": {},
     "output_type": "execute_result"
    }
   ],
   "source": [
    "re.findall('\\d+',elections_text)"
   ]
  },
  {
   "cell_type": "code",
   "execution_count": 230,
   "metadata": {},
   "outputs": [
    {
     "data": {
      "text/plain": [
       "[' Выборы депутатов Малобащелакского сельского Совета народных депутатов Чарышского района Алтайского края четвертого созыва']"
      ]
     },
     "execution_count": 230,
     "metadata": {},
     "output_type": "execute_result"
    }
   ],
   "source": [
    "re.findall('[^\\d.]+',elections_text)"
   ]
  },
  {
   "cell_type": "code",
   "execution_count": 231,
   "metadata": {},
   "outputs": [
    {
     "data": {
      "text/plain": [
       "['Выборы',\n",
       " 'депутатов',\n",
       " 'Малобащелакского',\n",
       " 'сельского',\n",
       " 'Совета',\n",
       " 'народных',\n",
       " 'депутатов',\n",
       " 'Чарышского',\n",
       " 'района',\n",
       " 'Алтайского',\n",
       " 'края',\n",
       " 'четвертого',\n",
       " 'созыва']"
      ]
     },
     "execution_count": 231,
     "metadata": {},
     "output_type": "execute_result"
    }
   ],
   "source": [
    "re.findall('\\w+[^\\d+.\\d+.\\d+ ]',elections_text)"
   ]
  },
  {
   "cell_type": "code",
   "execution_count": 232,
   "metadata": {},
   "outputs": [
    {
     "name": "stdout",
     "output_type": "stream",
     "text": [
      "[' Выборы депутатов Малобащелакского сельского Совета народных депутатов Чарышского района Алтайского края четвертого созыва']\n"
     ]
    }
   ],
   "source": [
    "elect_name = re.findall('[^\\d.]+',elections_text)\n",
    "print(elect_name)"
   ]
  },
  {
   "cell_type": "code",
   "execution_count": 238,
   "metadata": {
    "collapsed": true
   },
   "outputs": [],
   "source": [
    "okrug_text = elections[1].getText()"
   ]
  },
  {
   "cell_type": "code",
   "execution_count": 240,
   "metadata": {},
   "outputs": [
    {
     "data": {
      "text/plain": [
       "'Округ: 1'"
      ]
     },
     "execution_count": 240,
     "metadata": {},
     "output_type": "execute_result"
    }
   ],
   "source": [
    "okrug_text"
   ]
  },
  {
   "cell_type": "code",
   "execution_count": 241,
   "metadata": {},
   "outputs": [
    {
     "name": "stdout",
     "output_type": "stream",
     "text": [
      "['1']\n"
     ]
    },
    {
     "data": {
      "text/plain": [
       "1"
      ]
     },
     "execution_count": 241,
     "metadata": {},
     "output_type": "execute_result"
    }
   ],
   "source": [
    "okrug = re.findall('\\d', okrug_text)\n",
    "print(okrug)\n",
    "int(okrug[0])"
   ]
  },
  {
   "cell_type": "code",
   "execution_count": 248,
   "metadata": {},
   "outputs": [
    {
     "data": {
      "text/plain": [
       "'СПРАВЕДЛИВАЯ РОССИЯ'"
      ]
     },
     "execution_count": 248,
     "metadata": {},
     "output_type": "execute_result"
    }
   ],
   "source": [
    "polit_party_text = polit_party.getText().strip()\n",
    "polit_party_text"
   ]
  },
  {
   "cell_type": "code",
   "execution_count": 249,
   "metadata": {},
   "outputs": [
    {
     "data": {
      "text/plain": [
       "<td>\n",
       "<p>—</p>\n",
       "<p>временно неработающий</p>\n",
       "<p>Новосибирский государственный технический университет, 2003</p>\n",
       "</td>"
      ]
     },
     "execution_count": 249,
     "metadata": {},
     "output_type": "execute_result"
    }
   ],
   "source": [
    "educ_job"
   ]
  },
  {
   "cell_type": "code",
   "execution_count": 250,
   "metadata": {
    "collapsed": true
   },
   "outputs": [],
   "source": [
    "educ_job_info = educ_job.find_all('p')"
   ]
  },
  {
   "cell_type": "code",
   "execution_count": 251,
   "metadata": {},
   "outputs": [
    {
     "name": "stdout",
     "output_type": "stream",
     "text": [
      "—\n",
      "временно неработающий\n",
      "Новосибирский государственный технический университет, 2003\n"
     ]
    }
   ],
   "source": [
    "company = educ_job_info[0].getText()\n",
    "print(company)\n",
    "position = educ_job_info[1].getText()\n",
    "print(position)\n",
    "educ = educ_job_info[2].getText()\n",
    "print(educ)"
   ]
  },
  {
   "cell_type": "code",
   "execution_count": 287,
   "metadata": {
    "collapsed": true
   },
   "outputs": [],
   "source": [
    "def extract_main_info(candidate):\n",
    "    info_all = candidate.find_all('td')\n",
    "    base_info = info_all[0]\n",
    "    elect_info = info_all[1]\n",
    "    polit_party = info_all[2]\n",
    "    educ_job = info_all[3]\n",
    "    ref1 = base_info.a.get('href')\n",
    "    fio = base_info.find('a').getText()\n",
    "    birthyear = int(base_info.find('small', class_ = 'help').getText().replace(' г.р.', ''))\n",
    "    elections = elect_info.find_all('p')\n",
    "    elections_text = elections[0].getText()\n",
    "    elect_date = re.findall('\\d+.\\d+.\\d+',elections_text)[0]\n",
    "    elect_name = re.findall('[^\\d.]+',elections_text)[0]\n",
    "    if len(elections)==1:\n",
    "        okrug = None\n",
    "        region_gr = None\n",
    "        number_reg_gr = None\n",
    "    elif len(elections)==2:\n",
    "        okrug_text = elections[1].getText()\n",
    "        okrug = int(re.findall('\\d', okrug_text)[0])\n",
    "        region_gr = None\n",
    "        number_reg_gr = None\n",
    "    else:\n",
    "        region_text = elections[1].getText()\n",
    "        region_gr = int(re.findall('\\d', region_text)[0])\n",
    "        number_reg_text = elections[2].getText()\n",
    "        number_reg_gr = int(re.findall('\\d', number_reg_text)[0])\n",
    "        okrug = None\n",
    "    polit_party_text = polit_party.getText().strip()\n",
    "    educ_job_info = educ_job.find_all('p')\n",
    "    company = educ_job_info[0].getText()\n",
    "    position = educ_job_info[1].getText()\n",
    "    educ = educ_job_info[2].getText()\n",
    "    return [ref1, fio, birthyear, elect_date, elect_name, okrug, region_gr, number_reg_gr,polit_party_text,\n",
    "           company, position, educ]"
   ]
  },
  {
   "cell_type": "code",
   "execution_count": 288,
   "metadata": {
    "collapsed": true
   },
   "outputs": [],
   "source": [
    "all_cand_info = []\n",
    "for x in list_of_candidates:\n",
    "    all_cand_info.append(extract_main_info(x))"
   ]
  },
  {
   "cell_type": "code",
   "execution_count": 289,
   "metadata": {
    "collapsed": true
   },
   "outputs": [],
   "source": [
    "import pandas as pd"
   ]
  },
  {
   "cell_type": "code",
   "execution_count": 269,
   "metadata": {
    "collapsed": true
   },
   "outputs": [],
   "source": [
    "def style(width=\"95%\", font_size = \"8.0em\", line_height=\"1.4em\", text_align=\"center\"):\n",
    "    \"\"\"\n",
    "    display(HTML((\"<style>.container { width:%s !important; }</style>\\\") % width))\n",
    "    HTML((\\\"\\\"\\\"\n",
    "    <style>\n",
    "    div.text_cell_render h1 { /* Main titles bigger, centered */\n",
    "    font-size: %s;\n",
    "    line-height:%s;\n",
    "    text-align:%s;\n",
    "    }\n",
    "    </style>\n",
    "    \\\"\\\"\\\" % (font_size, line_height, text_align)))\n",
    "    \"\"\"\n",
    "    from IPython.core.display import display, HTML\n",
    "    display(HTML((\"<style>.container { width:%s !important; }</style>\") % width))\n",
    "    HTML((\"\"\"\n",
    "    <style>\n",
    "    div.text_cell_render h1 { /* Main titles bigger, centered */\n",
    "    font-size: %s;\n",
    "    line-height:%s;\n",
    "    text-align:%s;\n",
    "    }\n",
    "    </style>\n",
    "    \"\"\" % (font_size, line_height, text_align)))"
   ]
  },
  {
   "cell_type": "code",
   "execution_count": 270,
   "metadata": {},
   "outputs": [
    {
     "data": {
      "text/html": [
       "<style>.container { width:95% !important; }</style>"
      ],
      "text/plain": [
       "<IPython.core.display.HTML object>"
      ]
     },
     "metadata": {},
     "output_type": "display_data"
    }
   ],
   "source": [
    "style()"
   ]
  },
  {
   "cell_type": "code",
   "execution_count": 290,
   "metadata": {
    "collapsed": true
   },
   "outputs": [],
   "source": [
    "candidates_df = pd.DataFrame(all_cand_info)"
   ]
  },
  {
   "cell_type": "code",
   "execution_count": 285,
   "metadata": {
    "collapsed": true
   },
   "outputs": [],
   "source": [
    "candidates_df.columns = ['ref', 'fio', 'birthdate', 'elect_date', 'elect_name', 'okrug', 'region_gr', 'number_reg_gr','polit_party_text',\n",
    "           'company', 'position', 'educ']"
   ]
  },
  {
   "cell_type": "code",
   "execution_count": 291,
   "metadata": {},
   "outputs": [
    {
     "data": {
      "text/html": [
       "<div>\n",
       "<style>\n",
       "    .dataframe thead tr:only-child th {\n",
       "        text-align: right;\n",
       "    }\n",
       "\n",
       "    .dataframe thead th {\n",
       "        text-align: left;\n",
       "    }\n",
       "\n",
       "    .dataframe tbody tr th {\n",
       "        vertical-align: top;\n",
       "    }\n",
       "</style>\n",
       "<table border=\"1\" class=\"dataframe\">\n",
       "  <thead>\n",
       "    <tr style=\"text-align: right;\">\n",
       "      <th></th>\n",
       "      <th>0</th>\n",
       "      <th>1</th>\n",
       "      <th>2</th>\n",
       "      <th>3</th>\n",
       "      <th>4</th>\n",
       "      <th>5</th>\n",
       "      <th>6</th>\n",
       "      <th>7</th>\n",
       "      <th>8</th>\n",
       "      <th>9</th>\n",
       "      <th>10</th>\n",
       "      <th>11</th>\n",
       "    </tr>\n",
       "  </thead>\n",
       "  <tbody>\n",
       "    <tr>\n",
       "      <th>0</th>\n",
       "      <td>/p/926513-abaydulin-damir-feritovich</td>\n",
       "      <td>Абайдулин Дамир Фэритович</td>\n",
       "      <td>1981</td>\n",
       "      <td>10.09.2017</td>\n",
       "      <td>Выборы депутатов Малобащелакского сельского С...</td>\n",
       "      <td>1.0</td>\n",
       "      <td>NaN</td>\n",
       "      <td>NaN</td>\n",
       "      <td>СПРАВЕДЛИВАЯ РОССИЯ</td>\n",
       "      <td>—</td>\n",
       "      <td>временно неработающий</td>\n",
       "      <td>Новосибирский государственный технический унив...</td>\n",
       "    </tr>\n",
       "    <tr>\n",
       "      <th>1</th>\n",
       "      <td>/p/811938-abakumov-vitaliy-sergeevich</td>\n",
       "      <td>Абакумов Виталий Сергеевич</td>\n",
       "      <td>1989</td>\n",
       "      <td>18.09.2016</td>\n",
       "      <td>Выборы депутатов Алтайского краевого Законода...</td>\n",
       "      <td>NaN</td>\n",
       "      <td>3.0</td>\n",
       "      <td>3.0</td>\n",
       "      <td>ЯБЛОКО</td>\n",
       "      <td>—</td>\n",
       "      <td>временно не работающий</td>\n",
       "      <td></td>\n",
       "    </tr>\n",
       "    <tr>\n",
       "      <th>2</th>\n",
       "      <td>/p/487194-abakumova-elena-nikolaevna</td>\n",
       "      <td>Абакумова Елена Николаевна</td>\n",
       "      <td>1969</td>\n",
       "      <td>04.03.2012</td>\n",
       "      <td>Выборы депутатов Безрукавского сельского Собр...</td>\n",
       "      <td>2.0</td>\n",
       "      <td>NaN</td>\n",
       "      <td>NaN</td>\n",
       "      <td>ЕДИНАЯ РОССИЯ</td>\n",
       "      <td>—</td>\n",
       "      <td>индивидуальный предприниматель</td>\n",
       "      <td>среднее профессиональное</td>\n",
       "    </tr>\n",
       "    <tr>\n",
       "      <th>3</th>\n",
       "      <td>/p/487194-abakumova-elena-nikolaevna</td>\n",
       "      <td>Абакумова Елена Николаевна</td>\n",
       "      <td>1969</td>\n",
       "      <td>10.09.2017</td>\n",
       "      <td>Выборы депутатов Безрукавского сельского Собр...</td>\n",
       "      <td>5.0</td>\n",
       "      <td>NaN</td>\n",
       "      <td>NaN</td>\n",
       "      <td>ЕДИНАЯ РОССИЯ</td>\n",
       "      <td>—</td>\n",
       "      <td>временно не работает</td>\n",
       "      <td>Горно-Алтайский кооперативный техникум, 1988</td>\n",
       "    </tr>\n",
       "    <tr>\n",
       "      <th>4</th>\n",
       "      <td>/p/785488-abakumova-tatyana-vasilievna</td>\n",
       "      <td>Абакумова Татьяна Васильевна</td>\n",
       "      <td>1982</td>\n",
       "      <td>18.09.2016</td>\n",
       "      <td>Выборы депутатов Алтайского краевого Законода...</td>\n",
       "      <td>NaN</td>\n",
       "      <td>3.0</td>\n",
       "      <td>3.0</td>\n",
       "      <td>СПРАВЕДЛИВАЯ РОССИЯ</td>\n",
       "      <td>ЗАО «Контакт - 108»</td>\n",
       "      <td>бухгалтер</td>\n",
       "      <td>Государственное образовательное учреждение выс...</td>\n",
       "    </tr>\n",
       "    <tr>\n",
       "      <th>5</th>\n",
       "      <td>/p/99870-abakshina-valentina-markovna</td>\n",
       "      <td>Абакшина Валентина Марковна</td>\n",
       "      <td>1948</td>\n",
       "      <td>02.03.2008</td>\n",
       "      <td>Выборы депутатов Солтонского районного Совета...</td>\n",
       "      <td>1.0</td>\n",
       "      <td>NaN</td>\n",
       "      <td>NaN</td>\n",
       "      <td>Самовыдвижение</td>\n",
       "      <td>муниципальное образовательное учреждение Солто...</td>\n",
       "      <td>учитель начальных классов</td>\n",
       "      <td>высшее</td>\n",
       "    </tr>\n",
       "    <tr>\n",
       "      <th>6</th>\n",
       "      <td>/p/741154-abalakina-lyudmila-alekseevna</td>\n",
       "      <td>Абалакина Людмила Алексеевна</td>\n",
       "      <td>1963</td>\n",
       "      <td>13.09.2015</td>\n",
       "      <td>Выборы депутатов Полковниковского сельского С...</td>\n",
       "      <td>2.0</td>\n",
       "      <td>NaN</td>\n",
       "      <td>NaN</td>\n",
       "      <td>СПРАВЕДЛИВАЯ РОССИЯ</td>\n",
       "      <td>УФПС Алтайского края - филиала ФГУП \"Почта Рос...</td>\n",
       "      <td>начальник отделения почтовой связи с.Полковниково</td>\n",
       "      <td>среднее профессиональное</td>\n",
       "    </tr>\n",
       "    <tr>\n",
       "      <th>7</th>\n",
       "      <td>/p/22780-abalakina-yuliya-alekseevna</td>\n",
       "      <td>Абалакина Юлия Алексеевна</td>\n",
       "      <td>1985</td>\n",
       "      <td>08.09.2013</td>\n",
       "      <td>Выборы депутатов Красногорского районного Сов...</td>\n",
       "      <td>6.0</td>\n",
       "      <td>NaN</td>\n",
       "      <td>NaN</td>\n",
       "      <td>Российская политическая Партия Мира и Единства</td>\n",
       "      <td>комитет Администрации Косихинского района Алта...</td>\n",
       "      <td>инспектор по охране труда - ведущий специалист</td>\n",
       "      <td>высшее профессиональное</td>\n",
       "    </tr>\n",
       "    <tr>\n",
       "      <th>8</th>\n",
       "      <td>/p/23030-abalmasova-elena-sergeevna</td>\n",
       "      <td>Абалмасова Елена Сергеевна</td>\n",
       "      <td>1984</td>\n",
       "      <td>08.09.2013</td>\n",
       "      <td>Выборы депутатов Совета депутатов Новозыковск...</td>\n",
       "      <td>7.0</td>\n",
       "      <td>NaN</td>\n",
       "      <td>NaN</td>\n",
       "      <td>Самовыдвижение</td>\n",
       "      <td>ИП Киреев П.С.</td>\n",
       "      <td>бухгалтер</td>\n",
       "      <td>высшее профессиональное</td>\n",
       "    </tr>\n",
       "    <tr>\n",
       "      <th>9</th>\n",
       "      <td>/p/811862-abalymov-dmitriy-vladimirovich</td>\n",
       "      <td>Абалымов Дмитрий Владимирович</td>\n",
       "      <td>1978</td>\n",
       "      <td>18.09.2016</td>\n",
       "      <td>Выборы депутатов Алтайского краевого Законода...</td>\n",
       "      <td>NaN</td>\n",
       "      <td>2.0</td>\n",
       "      <td>3.0</td>\n",
       "      <td>ЕДИНАЯ РОССИЯ</td>\n",
       "      <td>ЗАО \"Алтайский Машиностроительный Завод Газэне...</td>\n",
       "      <td>генеральный директор</td>\n",
       "      <td>Алтайский государственный технический универси...</td>\n",
       "    </tr>\n",
       "    <tr>\n",
       "      <th>10</th>\n",
       "      <td>/p/811862-abalymov-dmitriy-vladimirovich</td>\n",
       "      <td>Абалымов Дмитрий Владимирович</td>\n",
       "      <td>1978</td>\n",
       "      <td>10.09.2017</td>\n",
       "      <td>Выборы депутатов Барнаульской городской Думы ...</td>\n",
       "      <td>1.0</td>\n",
       "      <td>NaN</td>\n",
       "      <td>NaN</td>\n",
       "      <td>ЕДИНАЯ РОССИЯ</td>\n",
       "      <td>Акционерное общество \"Алтайский Машиностроител...</td>\n",
       "      <td>генеральный директор</td>\n",
       "      <td>федеральное государственное образовательное уч...</td>\n",
       "    </tr>\n",
       "    <tr>\n",
       "      <th>11</th>\n",
       "      <td>/p/99096-abanokov-ruslan-kodzokovich</td>\n",
       "      <td>Абаноков Руслан Кодзокович</td>\n",
       "      <td>1953</td>\n",
       "      <td>02.03.2008</td>\n",
       "      <td>Выборы депутатов Новоалтайского городского Со...</td>\n",
       "      <td>1.0</td>\n",
       "      <td>NaN</td>\n",
       "      <td>NaN</td>\n",
       "      <td>Самовыдвижение</td>\n",
       "      <td>ООО \"Агрофирма \"Велес\"</td>\n",
       "      <td>директор</td>\n",
       "      <td>высшее профессиональное</td>\n",
       "    </tr>\n",
       "    <tr>\n",
       "      <th>12</th>\n",
       "      <td>/p/479790-abdleev-mihail-georgievich</td>\n",
       "      <td>Абдлеев Михаил Георгиевич</td>\n",
       "      <td>1956</td>\n",
       "      <td>04.03.2012</td>\n",
       "      <td>Выборы депутатов Бийского районного Совета на...</td>\n",
       "      <td>3.0</td>\n",
       "      <td>NaN</td>\n",
       "      <td>NaN</td>\n",
       "      <td>СПРАВЕДЛИВАЯ РОССИЯ</td>\n",
       "      <td>—</td>\n",
       "      <td>временно не работает</td>\n",
       "      <td>высшее профессиональное</td>\n",
       "    </tr>\n",
       "    <tr>\n",
       "      <th>13</th>\n",
       "      <td>/p/479790-abdleev-mihail-georgievich</td>\n",
       "      <td>Абдлеев Михаил Георгиевич</td>\n",
       "      <td>1956</td>\n",
       "      <td>10.09.2017</td>\n",
       "      <td>Выборы депутатов Бийского районного Совета на...</td>\n",
       "      <td>4.0</td>\n",
       "      <td>NaN</td>\n",
       "      <td>NaN</td>\n",
       "      <td>СПРАВЕДЛИВАЯ РОССИЯ</td>\n",
       "      <td>—</td>\n",
       "      <td>пенсионер</td>\n",
       "      <td>Алтайский государственный институт культуры, 1988</td>\n",
       "    </tr>\n",
       "    <tr>\n",
       "      <th>14</th>\n",
       "      <td>/p/481125-abdrashitova-galina-mihaylovna</td>\n",
       "      <td>Абдрашитова Галина Михайловна</td>\n",
       "      <td>1959</td>\n",
       "      <td>04.03.2012</td>\n",
       "      <td>Выборы депутатов Собрания депутатов Александр...</td>\n",
       "      <td>1.0</td>\n",
       "      <td>NaN</td>\n",
       "      <td>NaN</td>\n",
       "      <td>ЕДИНАЯ РОССИЯ</td>\n",
       "      <td>крестьянское фермерское хозяйство \"Абдрашитов ...</td>\n",
       "      <td>бухгалтер</td>\n",
       "      <td>высшее профессиональное</td>\n",
       "    </tr>\n",
       "    <tr>\n",
       "      <th>15</th>\n",
       "      <td>/p/639350-abdulina-svetlana-aleksandrovna</td>\n",
       "      <td>Абдулина Светлана Александровна</td>\n",
       "      <td>1975</td>\n",
       "      <td>13.09.2015</td>\n",
       "      <td>Дополнительные выборы  депутатов Собрания деп...</td>\n",
       "      <td>2.0</td>\n",
       "      <td>NaN</td>\n",
       "      <td>NaN</td>\n",
       "      <td>Самовыдвижение</td>\n",
       "      <td>—</td>\n",
       "      <td>домохозяйка</td>\n",
       "      <td>среднее общее</td>\n",
       "    </tr>\n",
       "    <tr>\n",
       "      <th>16</th>\n",
       "      <td>/p/639350-abdulina-svetlana-aleksandrovna</td>\n",
       "      <td>Абдулина Светлана Александровна</td>\n",
       "      <td>1975</td>\n",
       "      <td>10.09.2017</td>\n",
       "      <td>Выборы депутатов Собрания депутатов Кировског...</td>\n",
       "      <td>1.0</td>\n",
       "      <td>NaN</td>\n",
       "      <td>NaN</td>\n",
       "      <td>ЕДИНАЯ РОССИЯ</td>\n",
       "      <td>—</td>\n",
       "      <td>временно неработающая</td>\n",
       "      <td>Профессионально-техническое училище № 19 г. Ба...</td>\n",
       "    </tr>\n",
       "    <tr>\n",
       "      <th>17</th>\n",
       "      <td>/p/120570-abdulhalikova-olga-aleksandrovna</td>\n",
       "      <td>Абдулхаликова Ольга Александровна</td>\n",
       "      <td>1966</td>\n",
       "      <td>12.10.2008</td>\n",
       "      <td>Выборы депутатов Зонального районного Собрани...</td>\n",
       "      <td>6.0</td>\n",
       "      <td>NaN</td>\n",
       "      <td>NaN</td>\n",
       "      <td>РОДИНА</td>\n",
       "      <td>—</td>\n",
       "      <td>индивидуальный предприниматель</td>\n",
       "      <td>высшее профессиональное</td>\n",
       "    </tr>\n",
       "    <tr>\n",
       "      <th>18</th>\n",
       "      <td>/p/120570-abdulhalikova-olga-aleksandrovna</td>\n",
       "      <td>Абдулхаликова Ольга Александровна</td>\n",
       "      <td>1966</td>\n",
       "      <td>04.03.2012</td>\n",
       "      <td>Выборы депутатов Октябрьского сельского Собра...</td>\n",
       "      <td>1.0</td>\n",
       "      <td>NaN</td>\n",
       "      <td>NaN</td>\n",
       "      <td>ЕДИНАЯ РОССИЯ</td>\n",
       "      <td>—</td>\n",
       "      <td>индивидуальный предприниматель</td>\n",
       "      <td>высшее профессиональное</td>\n",
       "    </tr>\n",
       "    <tr>\n",
       "      <th>19</th>\n",
       "      <td>/p/120570-abdulhalikova-olga-aleksandrovna</td>\n",
       "      <td>Абдулхаликова Ольга Александровна</td>\n",
       "      <td>1966</td>\n",
       "      <td>10.09.2017</td>\n",
       "      <td>Выборы депутатов Зонального районного Собрани...</td>\n",
       "      <td>3.0</td>\n",
       "      <td>NaN</td>\n",
       "      <td>NaN</td>\n",
       "      <td>СПРАВЕДЛИВАЯ РОССИЯ</td>\n",
       "      <td>МКУК \"Зональный межпоселенческий районный Дом ...</td>\n",
       "      <td>заведующая филиалом Октябрьского Дома культуры</td>\n",
       "      <td>Бийское педагогическое училище, 1992</td>\n",
       "    </tr>\n",
       "    <tr>\n",
       "      <th>20</th>\n",
       "      <td>/p/485870-abdulmanova-valentina-vladimirovna</td>\n",
       "      <td>Абдульманова Валентина Владимировна</td>\n",
       "      <td>1951</td>\n",
       "      <td>14.10.2012</td>\n",
       "      <td>Выборы главы Прутского сельсовета Павловского...</td>\n",
       "      <td>NaN</td>\n",
       "      <td>NaN</td>\n",
       "      <td>NaN</td>\n",
       "      <td>Самовыдвижение</td>\n",
       "      <td>—</td>\n",
       "      <td>пенсионер</td>\n",
       "      <td>среднее профессиональное</td>\n",
       "    </tr>\n",
       "    <tr>\n",
       "      <th>21</th>\n",
       "      <td>/p/485870-abdulmanova-valentina-vladimirovna</td>\n",
       "      <td>Абдульманова Валентина Владимировна</td>\n",
       "      <td>1951</td>\n",
       "      <td>04.03.2012</td>\n",
       "      <td>Выборы депутатов Собрания депутатов Прутского...</td>\n",
       "      <td>1.0</td>\n",
       "      <td>NaN</td>\n",
       "      <td>NaN</td>\n",
       "      <td>Самовыдвижение</td>\n",
       "      <td>—</td>\n",
       "      <td>пенсионер</td>\n",
       "      <td>среднее профессиональное</td>\n",
       "    </tr>\n",
       "    <tr>\n",
       "      <th>22</th>\n",
       "      <td>/p/926981-abdurazakov-diyor-ibragimovich</td>\n",
       "      <td>Абдуразаков Диёр Ибрагимович</td>\n",
       "      <td>1996</td>\n",
       "      <td>10.09.2017</td>\n",
       "      <td>Выборы депутатов Зонального районного Собрани...</td>\n",
       "      <td>5.0</td>\n",
       "      <td>NaN</td>\n",
       "      <td>NaN</td>\n",
       "      <td>СПРАВЕДЛИВАЯ РОССИЯ</td>\n",
       "      <td>ООО \"Бийскстройком\"</td>\n",
       "      <td>заместитель директора</td>\n",
       "      <td>Федеральное государственное бюджетное образова...</td>\n",
       "    </tr>\n",
       "    <tr>\n",
       "      <th>23</th>\n",
       "      <td>/p/480265-abershtok-nikolay-antonovich</td>\n",
       "      <td>Абершток Николай Антонович</td>\n",
       "      <td>1963</td>\n",
       "      <td>04.03.2012</td>\n",
       "      <td>Выборы депутатов районного Собрания депутатов...</td>\n",
       "      <td>2.0</td>\n",
       "      <td>NaN</td>\n",
       "      <td>NaN</td>\n",
       "      <td>ЕДИНАЯ РОССИЯ</td>\n",
       "      <td>Алтайский сельский дом культуры</td>\n",
       "      <td>директор</td>\n",
       "      <td>среднее профессиональное</td>\n",
       "    </tr>\n",
       "    <tr>\n",
       "      <th>24</th>\n",
       "      <td>/p/480265-abershtok-nikolay-antonovich</td>\n",
       "      <td>Абершток Николай Антонович</td>\n",
       "      <td>1963</td>\n",
       "      <td>10.09.2017</td>\n",
       "      <td>Выборы депутатов Совета депутатов Обского сел...</td>\n",
       "      <td>1.0</td>\n",
       "      <td>NaN</td>\n",
       "      <td>NaN</td>\n",
       "      <td>Самовыдвижение</td>\n",
       "      <td>МБУК \"Калманский КИЦ\" Алтайский филиал</td>\n",
       "      <td>заведующий</td>\n",
       "      <td>Алтайское культурно - просветительное училище,...</td>\n",
       "    </tr>\n",
       "  </tbody>\n",
       "</table>\n",
       "</div>"
      ],
      "text/plain": [
       "                                              0   \\\n",
       "0           /p/926513-abaydulin-damir-feritovich   \n",
       "1          /p/811938-abakumov-vitaliy-sergeevich   \n",
       "2           /p/487194-abakumova-elena-nikolaevna   \n",
       "3           /p/487194-abakumova-elena-nikolaevna   \n",
       "4         /p/785488-abakumova-tatyana-vasilievna   \n",
       "5          /p/99870-abakshina-valentina-markovna   \n",
       "6        /p/741154-abalakina-lyudmila-alekseevna   \n",
       "7           /p/22780-abalakina-yuliya-alekseevna   \n",
       "8            /p/23030-abalmasova-elena-sergeevna   \n",
       "9       /p/811862-abalymov-dmitriy-vladimirovich   \n",
       "10      /p/811862-abalymov-dmitriy-vladimirovich   \n",
       "11          /p/99096-abanokov-ruslan-kodzokovich   \n",
       "12          /p/479790-abdleev-mihail-georgievich   \n",
       "13          /p/479790-abdleev-mihail-georgievich   \n",
       "14      /p/481125-abdrashitova-galina-mihaylovna   \n",
       "15     /p/639350-abdulina-svetlana-aleksandrovna   \n",
       "16     /p/639350-abdulina-svetlana-aleksandrovna   \n",
       "17    /p/120570-abdulhalikova-olga-aleksandrovna   \n",
       "18    /p/120570-abdulhalikova-olga-aleksandrovna   \n",
       "19    /p/120570-abdulhalikova-olga-aleksandrovna   \n",
       "20  /p/485870-abdulmanova-valentina-vladimirovna   \n",
       "21  /p/485870-abdulmanova-valentina-vladimirovna   \n",
       "22      /p/926981-abdurazakov-diyor-ibragimovich   \n",
       "23        /p/480265-abershtok-nikolay-antonovich   \n",
       "24        /p/480265-abershtok-nikolay-antonovich   \n",
       "\n",
       "                                     1     2           3   \\\n",
       "0             Абайдулин Дамир Фэритович  1981  10.09.2017   \n",
       "1            Абакумов Виталий Сергеевич  1989  18.09.2016   \n",
       "2            Абакумова Елена Николаевна  1969  04.03.2012   \n",
       "3            Абакумова Елена Николаевна  1969  10.09.2017   \n",
       "4          Абакумова Татьяна Васильевна  1982  18.09.2016   \n",
       "5           Абакшина Валентина Марковна  1948  02.03.2008   \n",
       "6          Абалакина Людмила Алексеевна  1963  13.09.2015   \n",
       "7             Абалакина Юлия Алексеевна  1985  08.09.2013   \n",
       "8            Абалмасова Елена Сергеевна  1984  08.09.2013   \n",
       "9         Абалымов Дмитрий Владимирович  1978  18.09.2016   \n",
       "10        Абалымов Дмитрий Владимирович  1978  10.09.2017   \n",
       "11           Абаноков Руслан Кодзокович  1953  02.03.2008   \n",
       "12            Абдлеев Михаил Георгиевич  1956  04.03.2012   \n",
       "13            Абдлеев Михаил Георгиевич  1956  10.09.2017   \n",
       "14        Абдрашитова Галина Михайловна  1959  04.03.2012   \n",
       "15      Абдулина Светлана Александровна  1975  13.09.2015   \n",
       "16      Абдулина Светлана Александровна  1975  10.09.2017   \n",
       "17    Абдулхаликова Ольга Александровна  1966  12.10.2008   \n",
       "18    Абдулхаликова Ольга Александровна  1966  04.03.2012   \n",
       "19    Абдулхаликова Ольга Александровна  1966  10.09.2017   \n",
       "20  Абдульманова Валентина Владимировна  1951  14.10.2012   \n",
       "21  Абдульманова Валентина Владимировна  1951  04.03.2012   \n",
       "22         Абдуразаков Диёр Ибрагимович  1996  10.09.2017   \n",
       "23           Абершток Николай Антонович  1963  04.03.2012   \n",
       "24           Абершток Николай Антонович  1963  10.09.2017   \n",
       "\n",
       "                                                   4    5    6    7   \\\n",
       "0    Выборы депутатов Малобащелакского сельского С...  1.0  NaN  NaN   \n",
       "1    Выборы депутатов Алтайского краевого Законода...  NaN  3.0  3.0   \n",
       "2    Выборы депутатов Безрукавского сельского Собр...  2.0  NaN  NaN   \n",
       "3    Выборы депутатов Безрукавского сельского Собр...  5.0  NaN  NaN   \n",
       "4    Выборы депутатов Алтайского краевого Законода...  NaN  3.0  3.0   \n",
       "5    Выборы депутатов Солтонского районного Совета...  1.0  NaN  NaN   \n",
       "6    Выборы депутатов Полковниковского сельского С...  2.0  NaN  NaN   \n",
       "7    Выборы депутатов Красногорского районного Сов...  6.0  NaN  NaN   \n",
       "8    Выборы депутатов Совета депутатов Новозыковск...  7.0  NaN  NaN   \n",
       "9    Выборы депутатов Алтайского краевого Законода...  NaN  2.0  3.0   \n",
       "10   Выборы депутатов Барнаульской городской Думы ...  1.0  NaN  NaN   \n",
       "11   Выборы депутатов Новоалтайского городского Со...  1.0  NaN  NaN   \n",
       "12   Выборы депутатов Бийского районного Совета на...  3.0  NaN  NaN   \n",
       "13   Выборы депутатов Бийского районного Совета на...  4.0  NaN  NaN   \n",
       "14   Выборы депутатов Собрания депутатов Александр...  1.0  NaN  NaN   \n",
       "15   Дополнительные выборы  депутатов Собрания деп...  2.0  NaN  NaN   \n",
       "16   Выборы депутатов Собрания депутатов Кировског...  1.0  NaN  NaN   \n",
       "17   Выборы депутатов Зонального районного Собрани...  6.0  NaN  NaN   \n",
       "18   Выборы депутатов Октябрьского сельского Собра...  1.0  NaN  NaN   \n",
       "19   Выборы депутатов Зонального районного Собрани...  3.0  NaN  NaN   \n",
       "20   Выборы главы Прутского сельсовета Павловского...  NaN  NaN  NaN   \n",
       "21   Выборы депутатов Собрания депутатов Прутского...  1.0  NaN  NaN   \n",
       "22   Выборы депутатов Зонального районного Собрани...  5.0  NaN  NaN   \n",
       "23   Выборы депутатов районного Собрания депутатов...  2.0  NaN  NaN   \n",
       "24   Выборы депутатов Совета депутатов Обского сел...  1.0  NaN  NaN   \n",
       "\n",
       "                                                8   \\\n",
       "0                              СПРАВЕДЛИВАЯ РОССИЯ   \n",
       "1                                           ЯБЛОКО   \n",
       "2                                    ЕДИНАЯ РОССИЯ   \n",
       "3                                    ЕДИНАЯ РОССИЯ   \n",
       "4                              СПРАВЕДЛИВАЯ РОССИЯ   \n",
       "5                                   Самовыдвижение   \n",
       "6                              СПРАВЕДЛИВАЯ РОССИЯ   \n",
       "7   Российская политическая Партия Мира и Единства   \n",
       "8                                   Самовыдвижение   \n",
       "9                                    ЕДИНАЯ РОССИЯ   \n",
       "10                                   ЕДИНАЯ РОССИЯ   \n",
       "11                                  Самовыдвижение   \n",
       "12                             СПРАВЕДЛИВАЯ РОССИЯ   \n",
       "13                             СПРАВЕДЛИВАЯ РОССИЯ   \n",
       "14                                   ЕДИНАЯ РОССИЯ   \n",
       "15                                  Самовыдвижение   \n",
       "16                                   ЕДИНАЯ РОССИЯ   \n",
       "17                                          РОДИНА   \n",
       "18                                   ЕДИНАЯ РОССИЯ   \n",
       "19                             СПРАВЕДЛИВАЯ РОССИЯ   \n",
       "20                                  Самовыдвижение   \n",
       "21                                  Самовыдвижение   \n",
       "22                             СПРАВЕДЛИВАЯ РОССИЯ   \n",
       "23                                   ЕДИНАЯ РОССИЯ   \n",
       "24                                  Самовыдвижение   \n",
       "\n",
       "                                                   9   \\\n",
       "0                                                   —   \n",
       "1                                                   —   \n",
       "2                                                   —   \n",
       "3                                                   —   \n",
       "4                                 ЗАО «Контакт - 108»   \n",
       "5   муниципальное образовательное учреждение Солто...   \n",
       "6   УФПС Алтайского края - филиала ФГУП \"Почта Рос...   \n",
       "7   комитет Администрации Косихинского района Алта...   \n",
       "8                                      ИП Киреев П.С.   \n",
       "9   ЗАО \"Алтайский Машиностроительный Завод Газэне...   \n",
       "10  Акционерное общество \"Алтайский Машиностроител...   \n",
       "11                             ООО \"Агрофирма \"Велес\"   \n",
       "12                                                  —   \n",
       "13                                                  —   \n",
       "14  крестьянское фермерское хозяйство \"Абдрашитов ...   \n",
       "15                                                  —   \n",
       "16                                                  —   \n",
       "17                                                  —   \n",
       "18                                                  —   \n",
       "19  МКУК \"Зональный межпоселенческий районный Дом ...   \n",
       "20                                                  —   \n",
       "21                                                  —   \n",
       "22                                ООО \"Бийскстройком\"   \n",
       "23                    Алтайский сельский дом культуры   \n",
       "24             МБУК \"Калманский КИЦ\" Алтайский филиал   \n",
       "\n",
       "                                                   10  \\\n",
       "0                               временно неработающий   \n",
       "1                              временно не работающий   \n",
       "2                      индивидуальный предприниматель   \n",
       "3                                временно не работает   \n",
       "4                                           бухгалтер   \n",
       "5                           учитель начальных классов   \n",
       "6   начальник отделения почтовой связи с.Полковниково   \n",
       "7      инспектор по охране труда - ведущий специалист   \n",
       "8                                           бухгалтер   \n",
       "9                                генеральный директор   \n",
       "10                               генеральный директор   \n",
       "11                                           директор   \n",
       "12                               временно не работает   \n",
       "13                                          пенсионер   \n",
       "14                                          бухгалтер   \n",
       "15                                        домохозяйка   \n",
       "16                              временно неработающая   \n",
       "17                     индивидуальный предприниматель   \n",
       "18                     индивидуальный предприниматель   \n",
       "19     заведующая филиалом Октябрьского Дома культуры   \n",
       "20                                          пенсионер   \n",
       "21                                          пенсионер   \n",
       "22                              заместитель директора   \n",
       "23                                           директор   \n",
       "24                                         заведующий   \n",
       "\n",
       "                                                   11  \n",
       "0   Новосибирский государственный технический унив...  \n",
       "1                                                      \n",
       "2                            среднее профессиональное  \n",
       "3        Горно-Алтайский кооперативный техникум, 1988  \n",
       "4   Государственное образовательное учреждение выс...  \n",
       "5                                              высшее  \n",
       "6                            среднее профессиональное  \n",
       "7                             высшее профессиональное  \n",
       "8                             высшее профессиональное  \n",
       "9   Алтайский государственный технический универси...  \n",
       "10  федеральное государственное образовательное уч...  \n",
       "11                            высшее профессиональное  \n",
       "12                            высшее профессиональное  \n",
       "13  Алтайский государственный институт культуры, 1988  \n",
       "14                            высшее профессиональное  \n",
       "15                                      среднее общее  \n",
       "16  Профессионально-техническое училище № 19 г. Ба...  \n",
       "17                            высшее профессиональное  \n",
       "18                            высшее профессиональное  \n",
       "19               Бийское педагогическое училище, 1992  \n",
       "20                           среднее профессиональное  \n",
       "21                           среднее профессиональное  \n",
       "22  Федеральное государственное бюджетное образова...  \n",
       "23                           среднее профессиональное  \n",
       "24  Алтайское культурно - просветительное училище,...  "
      ]
     },
     "execution_count": 291,
     "metadata": {},
     "output_type": "execute_result"
    }
   ],
   "source": [
    "candidates_df"
   ]
  },
  {
   "cell_type": "code",
   "execution_count": null,
   "metadata": {
    "collapsed": true
   },
   "outputs": [],
   "source": []
  }
 ],
 "metadata": {
  "kernelspec": {
   "display_name": "Python 3",
   "language": "python",
   "name": "python3"
  },
  "language_info": {
   "codemirror_mode": {
    "name": "ipython",
    "version": 3
   },
   "file_extension": ".py",
   "mimetype": "text/x-python",
   "name": "python",
   "nbconvert_exporter": "python",
   "pygments_lexer": "ipython3",
   "version": "3.5.2"
  }
 },
 "nbformat": 4,
 "nbformat_minor": 2
}

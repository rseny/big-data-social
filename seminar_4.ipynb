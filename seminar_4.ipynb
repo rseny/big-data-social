{
 "cells": [
  {
   "cell_type": "code",
   "execution_count": 15,
   "metadata": {
    "collapsed": true
   },
   "outputs": [],
   "source": [
    "import requests"
   ]
  },
  {
   "cell_type": "code",
   "execution_count": 16,
   "metadata": {
    "collapsed": true
   },
   "outputs": [],
   "source": [
    "resp = requests.get('https://candidates.golosinfo.org/')"
   ]
  },
  {
   "cell_type": "code",
   "execution_count": 17,
   "metadata": {},
   "outputs": [
    {
     "data": {
      "text/plain": [
       "<Response [200]>"
      ]
     },
     "execution_count": 17,
     "metadata": {},
     "output_type": "execute_result"
    }
   ],
   "source": [
    "resp"
   ]
  },
  {
   "cell_type": "code",
   "execution_count": 19,
   "metadata": {},
   "outputs": [
    {
     "data": {
      "text/plain": [
       "200"
      ]
     },
     "execution_count": 19,
     "metadata": {},
     "output_type": "execute_result"
    }
   ],
   "source": [
    "resp.status_code"
   ]
  },
  {
   "cell_type": "code",
   "execution_count": 20,
   "metadata": {},
   "outputs": [
    {
     "data": {
      "text/plain": [
       "True"
      ]
     },
     "execution_count": 20,
     "metadata": {},
     "output_type": "execute_result"
    }
   ],
   "source": [
    "resp.ok"
   ]
  },
  {
   "cell_type": "code",
   "execution_count": 22,
   "metadata": {},
   "outputs": [
    {
     "name": "stdout",
     "output_type": "stream",
     "text": [
      "<!DOCTYPE html>\n",
      "<html>\n",
      "\n",
      "<head>\n",
      "  <title>Энциклопедия кандидатов</title>\n",
      "  <meta name=\"csrf-param\" content=\"authenticity_token\" />\n",
      "<meta name=\"csrf-token\" content=\"kcMBBuGM879I0ONvzqsOn9Q0n5tOUMVrPlNGN8ZdxARgS4bYzxd1eLJUszypB8RVXWzgciFnnMdMxHk1Ielexw==\" />\n",
      "  <link rel=\"stylesheet\" media=\"all\" href=\"/assets/application-343c44974f2b504942123288b39a4f57b690b14ed4042aca4c83caacf9c1a29d.css\" />\n",
      "  <script src=\"/assets/application-702bfd6e2f42f205e9f9506af35c09957e06dea116b6e059d24a0876ffce1b8f.js\"></script>\n",
      "  <meta name=\"viewport\" content=\"width=device-width, initial-scale=1.0\">\n",
      "  <script>\n",
      "    WebFontConfig = {\n",
      "    google: { families: [ 'PT+Sans:400,700,400italic:latin,cyrillic' ] }\n",
      "    };\n",
      "    (function() {\n",
      "    var wf = document.createElement('script');\n",
      "    wf.src = ('https:' == document.location.protocol ? 'https' : 'http') +\n",
      "    '://ajax.googleapis.com/ajax/libs/webfont/1/webfont.js';\n",
      "    wf.type = 'text/javascript';\n",
      "    wf.async = 'true';\n",
      "    var s = document.getElementsByTagName('script')[0];\n",
      "    s.parentNode.insertBefore(wf, s);\n",
      "    })();\n",
      "  </script>\n",
      "</head>\n",
      "\n",
      "<body>\n",
      "\n",
      "<!-- v1 -->\n",
      "\n",
      "<div class=\"ui container\">\n",
      "  <a class=\"ui image\" href=\"/\"><img class=\"ui image\" alt=\"Энциклопедия кандидатов\" src=\"/assets/candidates-logo-cf79c48ff572ae55e40f41d6c950888e724a1310869e8cbca64912f14751b8b3.png\" /></a>\n",
      "</div>\n",
      "\n",
      "<div class=\"ui container\">\n",
      "  <div class=\"cand--page\">\n",
      "    <!-- v1 -->\n",
      "<div class=\"ui main grid\">\n",
      "  <div class=\"one column row cand--row cand--bg-grey\">\n",
      "    <div class=\"column\">\n",
      "      <div class=\"cand--text-block\">\n",
      "        <p><b>Сейчас в энциклопедии есть информация о <a href=\"/p\">1281682 кандидатах</a> и 79442 выборах, в которых они участвовали. \n",
      "          Сервис использует общедоступные данные с сайтов избирательных комиссий. </b></p>\n",
      "        <p>Посмотрите избирательную историю кандидата, за которого собираетесь голосовать — узнайте, участвовал ли он уже\n",
      "        в российских выборах, кем был выдвинут, был ли зарегистрирован и избран.</p>\n",
      "        <div class=\"ui stackable grid\">\n",
      "          <div class=\"one column centered row\">\n",
      "            <div class=\"twelve wide column\">\n",
      "              <form class=\"huge ui form\" action=\"/p\" accept-charset=\"UTF-8\" method=\"get\"><input name=\"utf8\" type=\"hidden\" value=\"&#x2713;\" />\n",
      "                <div class=\"ui large action fluid input\">\n",
      "                  <input placeholder=\"фамилия имя отчество\" autocomplete=\"off\" onfocus=\"this.selectionStart = this.selectionEnd = this.value.length;\" type=\"search\" name=\"q[n]\" id=\"q_n\" />\n",
      "                  <button type=\"submit\" class=\"ui grey button\">Искать</button>\n",
      "                </div>\n",
      "</form>            </div>\n",
      "          </div>\n",
      "        </div>\n",
      "      </div>\n",
      "    </div>\n",
      "  </div>\n",
      "  <div class=\"one column row cand--row cand--bg-grey\">\n",
      "    <div class=\"column\">\n",
      "      <div class=\"ui grid\">\n",
      "        <div class=\"one column row\">\n",
      "          <div class=\"column\">\n",
      "            <div class=\"cand--legend-item\">\n",
      "              <img class=\"ui avatar image\" src=\"/assets/icons/cand-nominated-0f3362bc0f65b09a050613abdde4c7dab37fd1803dadfd2b3cd09a5e51a80279.svg\" alt=\"Cand nominated\" width=\"28\" height=\"28\" /> <span class=\"cand--legend-text\">Кандидат выдвинут</span>\n",
      "            </div>\n",
      "            <div class=\"cand--legend-item\">\n",
      "              <img class=\"ui avatar image\" src=\"/assets/icons/cand-registered-58662b2fed1e2925673bd09cba79815a69ba0520f3031f48f945c8d0072cd51e.svg\" alt=\"Cand registered\" width=\"28\" height=\"28\" /> <span class=\"cand--legend-text\">Зарегистрирован</span>\n",
      "            </div>\n",
      "            <div class=\"cand--legend-item\">\n",
      "              <img class=\"ui avatar image\" src=\"/assets/icons/cand-denied-3edf8335c913d51e89abb9e96ec38d26a14fcccc62085ef55a67fa930a8da56d.svg\" alt=\"Cand denied\" width=\"28\" height=\"28\" /> <span class=\"cand--legend-text\">Отказ в регистрации</span>\n",
      "            </div>\n",
      "          </div>\n",
      "        </div>\n",
      "          <div class=\"row\">\n",
      "            <div class=\"column\">\n",
      "              <h3 class=\"ui header\">\n",
      "                <div class=\"content\"><a class=\"b\" href=\"/b/EDG-2017\">Единый день голосования 10 сентября 2017 года</a></div>\n",
      "                <div class=\"sub header\"></div>\n",
      "              </h3>\n",
      "              <p>Статистика по кандидатам на региональных и местных выборах. Обновляется ежедневно.</p>\n",
      "              <div class=\"ui stackable grid\">\n",
      "                <div class=\"three column row\">\n",
      "                  <div class=\"column\">\n",
      "                    <div class=\"cand--big-stat\">\n",
      "                      <img src=\"/assets/icons/cand-nominated-0f3362bc0f65b09a050613abdde4c7dab37fd1803dadfd2b3cd09a5e51a80279.svg\" alt=\"Cand nominated\" />\n",
      "                      <div class=\"cand--big-stat-number\">\n",
      "                        <a class=\"b\" href=\"/b/EDG-2017?q%5Bs%5D=nominated\">\n",
      "                          100095\n",
      "                          <!-- <div class=\"cand--big-stat-help\">выдвинуто</div> -->\n",
      "</a>                      </div>\n",
      "                    </div>\n",
      "                  </div>\n",
      "                  <div class=\"column\">\n",
      "                    <div class=\"cand--big-stat\">\n",
      "                      <img src=\"/assets/icons/cand-registered-58662b2fed1e2925673bd09cba79815a69ba0520f3031f48f945c8d0072cd51e.svg\" alt=\"Cand registered\" />\n",
      "                      <div class=\"cand--big-stat-number\">\n",
      "                        <a class=\"b\" href=\"/b/EDG-2017?q%5Bs%5D=registered\">\n",
      "                          92996\n",
      "                          <!-- <div class=\"cand--big-stat-help\">зарегистрировано</div> -->\n",
      "</a>                      </div>\n",
      "                    </div>\n",
      "                  </div>\n",
      "                  <div class=\"column\">\n",
      "                    <div class=\"cand--big-stat\">\n",
      "                      <img src=\"/assets/icons/cand-denied-3edf8335c913d51e89abb9e96ec38d26a14fcccc62085ef55a67fa930a8da56d.svg\" alt=\"Cand denied\" />\n",
      "                      <div class=\"cand--big-stat-number\">\n",
      "                        <a class=\"b\" href=\"/b/EDG-2017?q%5Bs%5D=denied\">\n",
      "                          4439\n",
      "                          <!-- <div class=\"cand--big-stat-help\">отказано в регистрации</div> -->\n",
      "</a>                      </div>\n",
      "                    </div>\n",
      "                  </div>\n",
      "                </div>\n",
      "              </div>\n",
      "            </div>\n",
      "          </div>\n",
      "          <div class=\"row\">\n",
      "            <div class=\"column\">\n",
      "              <h3 class=\"ui header\">\n",
      "                <div class=\"content\"><a class=\"b\" href=\"/b/EDG-2017-MSK\">Москва: Выборы депутатов представительных органов местного смоуправления 10 сентября 2017 года</a></div>\n",
      "                <div class=\"sub header\"></div>\n",
      "              </h3>\n",
      "              <p>Статистика по кандидатам на местных выборах в Москве. Обновляется ежедневно.</p>\n",
      "              <div class=\"ui stackable grid\">\n",
      "                <div class=\"three column row\">\n",
      "                  <div class=\"column\">\n",
      "                    <div class=\"cand--big-stat\">\n",
      "                      <img src=\"/assets/icons/cand-nominated-0f3362bc0f65b09a050613abdde4c7dab37fd1803dadfd2b3cd09a5e51a80279.svg\" alt=\"Cand nominated\" />\n",
      "                      <div class=\"cand--big-stat-number\">\n",
      "                        <a class=\"b\" href=\"/b/EDG-2017-MSK?q%5Bs%5D=nominated\">\n",
      "                          8375\n",
      "                          <!-- <div class=\"cand--big-stat-help\">выдвинуто</div> -->\n",
      "</a>                      </div>\n",
      "                    </div>\n",
      "                  </div>\n",
      "                  <div class=\"column\">\n",
      "                    <div class=\"cand--big-stat\">\n",
      "                      <img src=\"/assets/icons/cand-registered-58662b2fed1e2925673bd09cba79815a69ba0520f3031f48f945c8d0072cd51e.svg\" alt=\"Cand registered\" />\n",
      "                      <div class=\"cand--big-stat-number\">\n",
      "                        <a class=\"b\" href=\"/b/EDG-2017-MSK?q%5Bs%5D=registered\">\n",
      "                          7684\n",
      "                          <!-- <div class=\"cand--big-stat-help\">зарегистрировано</div> -->\n",
      "</a>                      </div>\n",
      "                    </div>\n",
      "                  </div>\n",
      "                  <div class=\"column\">\n",
      "                    <div class=\"cand--big-stat\">\n",
      "                      <img src=\"/assets/icons/cand-denied-3edf8335c913d51e89abb9e96ec38d26a14fcccc62085ef55a67fa930a8da56d.svg\" alt=\"Cand denied\" />\n",
      "                      <div class=\"cand--big-stat-number\">\n",
      "                        <a class=\"b\" href=\"/b/EDG-2017-MSK?q%5Bs%5D=denied\">\n",
      "                          523\n",
      "                          <!-- <div class=\"cand--big-stat-help\">отказано в регистрации</div> -->\n",
      "</a>                      </div>\n",
      "                    </div>\n",
      "                  </div>\n",
      "                </div>\n",
      "              </div>\n",
      "            </div>\n",
      "          </div>\n",
      "      </div>\n",
      "    </div>\n",
      "  </div>\n",
      "</div>\n",
      "  </div>\n",
      "</div>\n",
      "\n",
      "<div class=\"cand--block ui container\">\n",
      "  <div class=\"ui medium divider\"></div>\n",
      "  <div class=\"ui two column stackable grid\">\n",
      "    <div class=\"column\">\n",
      "      <p>© 2016. Проект <a href=\"http://www.golosinfo.org\">движения в защиту прав избирателей «Голос»</a>.</p>\n",
      "      <p>\n",
      "        <a href=\"http://www.golosinfo.org/donate\" class=\"ui small icon basic orange button\">\n",
      "          <i class=\"money icon\"></i> Хочу помочь\n",
      "        </a>\n",
      "      </p>\n",
      "    </div>\n",
      "    <div class=\"column\">\n",
      "      <p>Энциклопедия использует общедоступные данные с сайтов избирательных комиссий. В базе приведены данные, начиная с 2007 года. Данные носят справочный характер.</p>\n",
      "      <p>Присылайте ваши отзывы и предложения: <a href=\"mailto:golos@golosinfo.org\">golos@golosinfo.org</a>.</p>\n",
      "    </div>\n",
      "  </div>\n",
      "</div>\n",
      "\n",
      "<!-- /v1 -->\n",
      "\n",
      "<div id=\"g_footer\"></div>\n",
      "<script async=\"true\" src=\"//g-widget.herokuapp.com/js/footer.js\"></script>\n",
      "\n",
      "  <script>\n",
      "    (function(i,s,o,g,r,a,m){i['GoogleAnalyticsObject']=r;i[r]=i[r]||function(){\n",
      "    (i[r].q=i[r].q||[]).push(arguments)},i[r].l=1*new Date();a=s.createElement(o),\n",
      "    m=s.getElementsByTagName(o)[0];a.async=1;a.src=g;m.parentNode.insertBefore(a,m)\n",
      "    })(window,document,'script','https://www.google-analytics.com/analytics.js','ga');\n",
      "\n",
      "    ga('create', 'UA-3608435-17', 'auto');\n",
      "    ga('send', 'pageview');\n",
      "\n",
      "  </script>\n",
      "</body>\n",
      "\n",
      "</html>\n",
      "\n"
     ]
    }
   ],
   "source": [
    "print(resp.text)"
   ]
  },
  {
   "cell_type": "code",
   "execution_count": 23,
   "metadata": {
    "collapsed": true
   },
   "outputs": [],
   "source": [
    "resp = requests.get('https://candidates.golosinfo.org/1')"
   ]
  },
  {
   "cell_type": "code",
   "execution_count": 24,
   "metadata": {},
   "outputs": [
    {
     "data": {
      "text/plain": [
       "<Response [404]>"
      ]
     },
     "execution_count": 24,
     "metadata": {},
     "output_type": "execute_result"
    }
   ],
   "source": [
    "resp"
   ]
  },
  {
   "cell_type": "markdown",
   "metadata": {},
   "source": [
    "1хх - информационный\n",
    "2хх - удачное завершение\n",
    "3хх - перенаправление\n",
    "4хх - ошибка на стороне клиента\n",
    "5хх - ошибка на стороне сервера"
   ]
  },
  {
   "cell_type": "code",
   "execution_count": 26,
   "metadata": {
    "collapsed": true
   },
   "outputs": [],
   "source": [
    "try:\n",
    "    resp = requests.get('https://candidates.golosinfo.org/1')\n",
    "except Exception as e:\n",
    "    print(e)"
   ]
  },
  {
   "cell_type": "code",
   "execution_count": 27,
   "metadata": {},
   "outputs": [
    {
     "name": "stdout",
     "output_type": "stream",
     "text": [
      "<!DOCTYPE html>\n",
      "<html>\n",
      "\n",
      "<head>\n",
      "  <title>Энциклопедия кандидатов</title>\n",
      "  <meta name=\"csrf-param\" content=\"authenticity_token\" />\n",
      "<meta name=\"csrf-token\" content=\"J8FSeuZFm5mSmBkClMFbEWVtcScYoUm+wBpC14O2fGsyOIn6mBs6H5FT06UfIG9FPYkZrr6wZeCogzEu78VHFA==\" />\n",
      "  <link rel=\"stylesheet\" media=\"all\" href=\"/assets/application-343c44974f2b504942123288b39a4f57b690b14ed4042aca4c83caacf9c1a29d.css\" />\n",
      "  <script src=\"/assets/application-702bfd6e2f42f205e9f9506af35c09957e06dea116b6e059d24a0876ffce1b8f.js\"></script>\n",
      "  <meta name=\"viewport\" content=\"width=device-width, initial-scale=1.0\">\n",
      "  <script>\n",
      "    WebFontConfig = {\n",
      "    google: { families: [ 'PT+Sans:400,700,400italic:latin,cyrillic' ] }\n",
      "    };\n",
      "    (function() {\n",
      "    var wf = document.createElement('script');\n",
      "    wf.src = ('https:' == document.location.protocol ? 'https' : 'http') +\n",
      "    '://ajax.googleapis.com/ajax/libs/webfont/1/webfont.js';\n",
      "    wf.type = 'text/javascript';\n",
      "    wf.async = 'true';\n",
      "    var s = document.getElementsByTagName('script')[0];\n",
      "    s.parentNode.insertBefore(wf, s);\n",
      "    })();\n",
      "  </script>\n",
      "</head>\n",
      "\n",
      "<body>\n",
      "\n",
      "<!-- v1 -->\n",
      "\n",
      "<div class=\"ui container\">\n",
      "  <a class=\"ui image\" href=\"/\"><img class=\"ui image\" alt=\"Энциклопедия кандидатов\" src=\"/assets/candidates-logo-cf79c48ff572ae55e40f41d6c950888e724a1310869e8cbca64912f14751b8b3.png\" /></a>\n",
      "</div>\n",
      "\n",
      "<div class=\"ui container\">\n",
      "  <div class=\"cand--page\">\n",
      "    <!-- v1 -->\n",
      "<div class=\"ui main grid\">\n",
      "  <div class=\"one column row cand--row cand--bg-grey\">\n",
      "    <div class=\"column\">\n",
      "      <div class=\"cand--text-block\">\n",
      "        <p><b>Сейчас в энциклопедии есть информация о <a href=\"/p\">1281682 кандидатах</a> и 79442 выборах, в которых они участвовали. \n",
      "          Сервис использует общедоступные данные с сайтов избирательных комиссий. </b></p>\n",
      "        <p>Посмотрите избирательную историю кандидата, за которого собираетесь голосовать — узнайте, участвовал ли он уже\n",
      "        в российских выборах, кем был выдвинут, был ли зарегистрирован и избран.</p>\n",
      "        <div class=\"ui stackable grid\">\n",
      "          <div class=\"one column centered row\">\n",
      "            <div class=\"twelve wide column\">\n",
      "              <form class=\"huge ui form\" action=\"/p\" accept-charset=\"UTF-8\" method=\"get\"><input name=\"utf8\" type=\"hidden\" value=\"&#x2713;\" />\n",
      "                <div class=\"ui large action fluid input\">\n",
      "                  <input placeholder=\"фамилия имя отчество\" autocomplete=\"off\" onfocus=\"this.selectionStart = this.selectionEnd = this.value.length;\" type=\"search\" name=\"q[n]\" id=\"q_n\" />\n",
      "                  <button type=\"submit\" class=\"ui grey button\">Искать</button>\n",
      "                </div>\n",
      "</form>            </div>\n",
      "          </div>\n",
      "        </div>\n",
      "      </div>\n",
      "    </div>\n",
      "  </div>\n",
      "  <div class=\"one column row cand--row cand--bg-grey\">\n",
      "    <div class=\"column\">\n",
      "      <div class=\"ui grid\">\n",
      "        <div class=\"one column row\">\n",
      "          <div class=\"column\">\n",
      "            <div class=\"cand--legend-item\">\n",
      "              <img class=\"ui avatar image\" src=\"/assets/icons/cand-nominated-0f3362bc0f65b09a050613abdde4c7dab37fd1803dadfd2b3cd09a5e51a80279.svg\" alt=\"Cand nominated\" width=\"28\" height=\"28\" /> <span class=\"cand--legend-text\">Кандидат выдвинут</span>\n",
      "            </div>\n",
      "            <div class=\"cand--legend-item\">\n",
      "              <img class=\"ui avatar image\" src=\"/assets/icons/cand-registered-58662b2fed1e2925673bd09cba79815a69ba0520f3031f48f945c8d0072cd51e.svg\" alt=\"Cand registered\" width=\"28\" height=\"28\" /> <span class=\"cand--legend-text\">Зарегистрирован</span>\n",
      "            </div>\n",
      "            <div class=\"cand--legend-item\">\n",
      "              <img class=\"ui avatar image\" src=\"/assets/icons/cand-denied-3edf8335c913d51e89abb9e96ec38d26a14fcccc62085ef55a67fa930a8da56d.svg\" alt=\"Cand denied\" width=\"28\" height=\"28\" /> <span class=\"cand--legend-text\">Отказ в регистрации</span>\n",
      "            </div>\n",
      "          </div>\n",
      "        </div>\n",
      "          <div class=\"row\">\n",
      "            <div class=\"column\">\n",
      "              <h3 class=\"ui header\">\n",
      "                <div class=\"content\"><a class=\"b\" href=\"/b/EDG-2017\">Единый день голосования 10 сентября 2017 года</a></div>\n",
      "                <div class=\"sub header\"></div>\n",
      "              </h3>\n",
      "              <p>Статистика по кандидатам на региональных и местных выборах. Обновляется ежедневно.</p>\n",
      "              <div class=\"ui stackable grid\">\n",
      "                <div class=\"three column row\">\n",
      "                  <div class=\"column\">\n",
      "                    <div class=\"cand--big-stat\">\n",
      "                      <img src=\"/assets/icons/cand-nominated-0f3362bc0f65b09a050613abdde4c7dab37fd1803dadfd2b3cd09a5e51a80279.svg\" alt=\"Cand nominated\" />\n",
      "                      <div class=\"cand--big-stat-number\">\n",
      "                        <a class=\"b\" href=\"/b/EDG-2017?q%5Bs%5D=nominated\">\n",
      "                          100095\n",
      "                          <!-- <div class=\"cand--big-stat-help\">выдвинуто</div> -->\n",
      "</a>                      </div>\n",
      "                    </div>\n",
      "                  </div>\n",
      "                  <div class=\"column\">\n",
      "                    <div class=\"cand--big-stat\">\n",
      "                      <img src=\"/assets/icons/cand-registered-58662b2fed1e2925673bd09cba79815a69ba0520f3031f48f945c8d0072cd51e.svg\" alt=\"Cand registered\" />\n",
      "                      <div class=\"cand--big-stat-number\">\n",
      "                        <a class=\"b\" href=\"/b/EDG-2017?q%5Bs%5D=registered\">\n",
      "                          92996\n",
      "                          <!-- <div class=\"cand--big-stat-help\">зарегистрировано</div> -->\n",
      "</a>                      </div>\n",
      "                    </div>\n",
      "                  </div>\n",
      "                  <div class=\"column\">\n",
      "                    <div class=\"cand--big-stat\">\n",
      "                      <img src=\"/assets/icons/cand-denied-3edf8335c913d51e89abb9e96ec38d26a14fcccc62085ef55a67fa930a8da56d.svg\" alt=\"Cand denied\" />\n",
      "                      <div class=\"cand--big-stat-number\">\n",
      "                        <a class=\"b\" href=\"/b/EDG-2017?q%5Bs%5D=denied\">\n",
      "                          4439\n",
      "                          <!-- <div class=\"cand--big-stat-help\">отказано в регистрации</div> -->\n",
      "</a>                      </div>\n",
      "                    </div>\n",
      "                  </div>\n",
      "                </div>\n",
      "              </div>\n",
      "            </div>\n",
      "          </div>\n",
      "          <div class=\"row\">\n",
      "            <div class=\"column\">\n",
      "              <h3 class=\"ui header\">\n",
      "                <div class=\"content\"><a class=\"b\" href=\"/b/EDG-2017-MSK\">Москва: Выборы депутатов представительных органов местного смоуправления 10 сентября 2017 года</a></div>\n",
      "                <div class=\"sub header\"></div>\n",
      "              </h3>\n",
      "              <p>Статистика по кандидатам на местных выборах в Москве. Обновляется ежедневно.</p>\n",
      "              <div class=\"ui stackable grid\">\n",
      "                <div class=\"three column row\">\n",
      "                  <div class=\"column\">\n",
      "                    <div class=\"cand--big-stat\">\n",
      "                      <img src=\"/assets/icons/cand-nominated-0f3362bc0f65b09a050613abdde4c7dab37fd1803dadfd2b3cd09a5e51a80279.svg\" alt=\"Cand nominated\" />\n",
      "                      <div class=\"cand--big-stat-number\">\n",
      "                        <a class=\"b\" href=\"/b/EDG-2017-MSK?q%5Bs%5D=nominated\">\n",
      "                          8375\n",
      "                          <!-- <div class=\"cand--big-stat-help\">выдвинуто</div> -->\n",
      "</a>                      </div>\n",
      "                    </div>\n",
      "                  </div>\n",
      "                  <div class=\"column\">\n",
      "                    <div class=\"cand--big-stat\">\n",
      "                      <img src=\"/assets/icons/cand-registered-58662b2fed1e2925673bd09cba79815a69ba0520f3031f48f945c8d0072cd51e.svg\" alt=\"Cand registered\" />\n",
      "                      <div class=\"cand--big-stat-number\">\n",
      "                        <a class=\"b\" href=\"/b/EDG-2017-MSK?q%5Bs%5D=registered\">\n",
      "                          7684\n",
      "                          <!-- <div class=\"cand--big-stat-help\">зарегистрировано</div> -->\n",
      "</a>                      </div>\n",
      "                    </div>\n",
      "                  </div>\n",
      "                  <div class=\"column\">\n",
      "                    <div class=\"cand--big-stat\">\n",
      "                      <img src=\"/assets/icons/cand-denied-3edf8335c913d51e89abb9e96ec38d26a14fcccc62085ef55a67fa930a8da56d.svg\" alt=\"Cand denied\" />\n",
      "                      <div class=\"cand--big-stat-number\">\n",
      "                        <a class=\"b\" href=\"/b/EDG-2017-MSK?q%5Bs%5D=denied\">\n",
      "                          523\n",
      "                          <!-- <div class=\"cand--big-stat-help\">отказано в регистрации</div> -->\n",
      "</a>                      </div>\n",
      "                    </div>\n",
      "                  </div>\n",
      "                </div>\n",
      "              </div>\n",
      "            </div>\n",
      "          </div>\n",
      "      </div>\n",
      "    </div>\n",
      "  </div>\n",
      "</div>\n",
      "  </div>\n",
      "</div>\n",
      "\n",
      "<div class=\"cand--block ui container\">\n",
      "  <div class=\"ui medium divider\"></div>\n",
      "  <div class=\"ui two column stackable grid\">\n",
      "    <div class=\"column\">\n",
      "      <p>© 2016. Проект <a href=\"http://www.golosinfo.org\">движения в защиту прав избирателей «Голос»</a>.</p>\n",
      "      <p>\n",
      "        <a href=\"http://www.golosinfo.org/donate\" class=\"ui small icon basic orange button\">\n",
      "          <i class=\"money icon\"></i> Хочу помочь\n",
      "        </a>\n",
      "      </p>\n",
      "    </div>\n",
      "    <div class=\"column\">\n",
      "      <p>Энциклопедия использует общедоступные данные с сайтов избирательных комиссий. В базе приведены данные, начиная с 2007 года. Данные носят справочный характер.</p>\n",
      "      <p>Присылайте ваши отзывы и предложения: <a href=\"mailto:golos@golosinfo.org\">golos@golosinfo.org</a>.</p>\n",
      "    </div>\n",
      "  </div>\n",
      "</div>\n",
      "\n",
      "<!-- /v1 -->\n",
      "\n",
      "<div id=\"g_footer\"></div>\n",
      "<script async=\"true\" src=\"//g-widget.herokuapp.com/js/footer.js\"></script>\n",
      "\n",
      "  <script>\n",
      "    (function(i,s,o,g,r,a,m){i['GoogleAnalyticsObject']=r;i[r]=i[r]||function(){\n",
      "    (i[r].q=i[r].q||[]).push(arguments)},i[r].l=1*new Date();a=s.createElement(o),\n",
      "    m=s.getElementsByTagName(o)[0];a.async=1;a.src=g;m.parentNode.insertBefore(a,m)\n",
      "    })(window,document,'script','https://www.google-analytics.com/analytics.js','ga');\n",
      "\n",
      "    ga('create', 'UA-3608435-17', 'auto');\n",
      "    ga('send', 'pageview');\n",
      "\n",
      "  </script>\n",
      "</body>\n",
      "\n",
      "</html>\n",
      "\n"
     ]
    }
   ],
   "source": [
    "resp = requests.get('https://candidates.golosinfo.org/')\n",
    "if resp.ok:\n",
    "    print(resp.text)"
   ]
  },
  {
   "cell_type": "code",
   "execution_count": 35,
   "metadata": {},
   "outputs": [
    {
     "name": "stdout",
     "output_type": "stream",
     "text": [
      "Connection timeout\n"
     ]
    }
   ],
   "source": [
    "try:\n",
    "    response = requests.get('https://candidates.golosinfo.org/', timeout=(0.000001, 4))\n",
    "except requests.exceptions.ReadTimeout:\n",
    "    print('Read timeout')\n",
    "except requests.exceptions.ConnectTimeout:\n",
    "    print('Connection timeout')"
   ]
  },
  {
   "cell_type": "code",
   "execution_count": 37,
   "metadata": {
    "collapsed": true
   },
   "outputs": [],
   "source": [
    "resp = requests.get('https://candidates.golosinfo.org/')"
   ]
  },
  {
   "cell_type": "code",
   "execution_count": 38,
   "metadata": {
    "collapsed": true
   },
   "outputs": [],
   "source": [
    "resp = requests.get('https://vk.com/id1')"
   ]
  },
  {
   "cell_type": "code",
   "execution_count": 39,
   "metadata": {},
   "outputs": [
    {
     "data": {
      "text/plain": [
       "200"
      ]
     },
     "execution_count": 39,
     "metadata": {},
     "output_type": "execute_result"
    }
   ],
   "source": [
    "resp.status_code"
   ]
  },
  {
   "cell_type": "code",
   "execution_count": 41,
   "metadata": {},
   "outputs": [
    {
     "name": "stdout",
     "output_type": "stream",
     "text": [
      " <?xml version=\"1.0\" encoding=\"utf-8\"?>\n",
      "<!DOCTYPE html PUBLIC \"-//WAPFORUM//DTD XHTML Mobile 1.0//EN\" \"http://www.wapforum.org/DTD/xhtml-mobile10.dtd\">\n",
      "<html xmlns=\"http://www.w3.org/1999/xhtml\" class=\"vk vk_js_no r d \">\n",
      "<head>\n",
      "<meta name=\"viewport\" content=\"width=device-width, initial-scale=1.0, minimum-scale=1.0, maximum-scale=1.0, user-scalable=no\" />\n",
      "<meta http-equiv=\"content-type\" content=\"text/html; charset=utf-8\" />\n",
      "<meta name=\"format-detection\" content=\"telephone=no\" />\n",
      "<meta http-equiv=\"X-UA-Compatible\" content=\"IE=edge\" />\n",
      "<meta name=\"MobileOptimized\" content=\"176\" />\n",
      "<meta name=\"HandheldFriendly\" content=\"True\" />\n",
      "<base id=\"base\">\n",
      "<meta name=\"robots\" content=\"noindex,nofollow\" />\n",
      "<title>Павел Дуров</title>\n",
      "<link rel=\"shortcut icon\" href=\"/images/icons/favicons/fav_logo.ico?6\"></link>\n",
      "<script>\n",
      "(function() {\n",
      "var html = document.querySelector('html');\n",
      "html.setAttribute('class', html.getAttribute('class').replace('vk_js_no', 'vk_js_yes'));\n",
      "window.isNewMail = false;\n",
      "window.audioSubscribe = false;\n",
      "})();\n",
      "</script>\n",
      "<script type=\"text/javascript\">\n",
      "<!--\n",
      "(function(k,a,d,e,f){function l(){var c=function(){var b=!1;try{b=new XMLHttpRequest}catch(a){try{b=new ActiveXObject(\"Msxml2.XMLHTTP\")}catch(d){try{b=new ActiveXObject(\"Microsoft.XMLHTTP\")}catch(c){b=!1}}}return b?e:f}(),g=function(){var b=k.createElement(\"div\");b.innerHTML='<input type=\"file\" />';b=b.getElementsByTagName(\"input\")[0];return\"file\"!=b.type||b.disabled?f:e}(),h=\"ontouchstart\"in a?e:f,m;try{m=typeof navigator.geolocation!==d?e:typeof a.google!==d&&typeof google.gears!==d?e:typeof device!==d&&typeof device.getServiceObject!==d?e:typeof Mojo!==d&&\"Mojo.Service.Request\"!==typeof Mojo.Service.Request?e:f}catch(p){m=f}var l=function(b){try{var d=a.Audio?new Audio:k.createElement(\"audio\");if(d.canPlayType&&d.canPlayType(b)&&\"no\"!=d.canPlayType(b))return e}catch(c){}return f}(\"audio/mpeg\"),n=function(b){try{for(var a=k.createElement(\"div\"),c=0,g=[\"webkit\",\"Moz\",\"ms\",\"O\",\"\"],h=g.length;c<h;c++){var l=g[c],m=l?l+b:b.toLowerCase();if(typeof a.style[m]!==d)return e}return f}catch(n){return f}}(\"Transform\");return c+g+h+m+l+n+((a.XMLHttpRequest||a.XDomainRequest)&&(a.FormData||a.FileReader&&(a.XMLHttpRequest&&XMLHttpRequest.sendAsBinary||a.ArrayBuffer&&a.Uint8Array&&(a.MozBlobBuilder||a.WebKitBlobBuilder||a.BlobBuilder)))?e:f)}var c=a.screen,g=c.width||0,c=c.height||0,n=a.devicePixelRatio||1,p=(k.cookie.match(/(^|;\\s+)remixmdevice=([^;]+)/)||[])[2]||\"\",h=p.split(\"/\");p&&g==h[0]&&c==h[1]&&7==h[3].length||(g=[g,c,n,l()].join(\"/\"),k.cookie=\"remixmdevice=; expires=\"+(new Date(0)).toUTCString()+\"; path=/\",k.cookie=\"remixmdevice=\"+g+\"; expires=\"+(new Date((new Date).getTime()+7776E6)).toUTCString()+\"; path=/; domain=.vk.com\",location.replace(location.toString()))})(document,window,\"undefined\",\"!\",\"-\");(function(a,d){var c=a.hash||\"\",b=c.substr(2);\"#/\"==c.substr(0,2)&&!d&&(b.match(/^\\/*(away|login)(\\.php)?([^a-z0-9\\.]|$)/)&&(b=\"\"),a.replace(a.protocol+\"//\"+a.host+\"/\"+b))})(location);\n",
      "//-->\n",
      "</script>\n",
      "<link type=\"text/css\" rel=\"stylesheet\" href=\"/css/s_c.css?508\"></link>\n",
      "<link type=\"text/css\" rel=\"stylesheet\" media=\"only screen\" href=\"/css/s_yzg.css?196\"></link>\n",
      "<link rel=\"canonical\" href=\"https://vk.com/durov\"></link>\n",
      "<link rel=\"alternate\" href=\"android-app://com.vkontakte.android/vkontakte/m.vk.com/durov\" />\n",
      "</head>\n",
      "<body id=\"vk\" class=\"vk__page _hover vk_stickers_hints_support_no opera_mini_no vk_al_no\">\n",
      "<div class=\"layout\">\n",
      "<div class=\"layout__header mhead\" id=\"vk_head\">\n",
      "<div class=\"hb_wrap\">\n",
      "<div class=\"hb_btn\">&nbsp;</div>\n",
      "</div>\n",
      "</div>\n",
      "<div class=\"layout__body \" id=\"vk_wrap\">\n",
      "<div class=\"layout__leftMenu\" id=\"l\">\n",
      "</div>\n",
      "<div class=\"layout__basis\" id=\"m\">\n",
      "<div class=\"basis\">\n",
      "<div class=\"basis__header mhead\" id=\"mhead\"> <a href=\"/\" accesskey=\"*\" class=\"hb_wrap mhb_home mhb_vkhome\">\n",
      "<div class=\"hb_btn mhi_home mhi_vkhome\">&nbsp;</div>\n",
      "</a>\n",
      "<a href=\"/login?to=ZHVyb3Y-\" class=\"hb_wrap mhb_notify\" accesskey=\"#\">\n",
      "<div class=\"hb_btn\">\n",
      "<em class=\"mh_btn_label\">войти</em>\n",
      "</div>\n",
      "</a>\n",
      "<div class=\"hb_wrap mhb_back al_back\"><h1 class=\"hb_btn mh_header\">Павел</h1></div></div>\n",
      "<div class=\"basis__content mcont\" id=\"mcont\"> <div class=\"basisProfile pcont fit_box\">\n",
      "<div class=\"owner_panel profile_panel\">\n",
      "<a href=\"/photo1_456264771?rev=1&from=profile\"><img src=\"https://pp.userapi.com/c836333/v836333001/31192/y1Cm4JfplhQ.jpg\" class=\"pp_img\" alt=\"Павел Дуров\" style=\"background-image:url(https://pp.userapi.com/c836333/v836333001/31193/dNxZpRF-z_M.jpg)\" /></a>\n",
      "<div class=\"pp_cont\">\n",
      "<h2 class=\"op_header\">Павел Дуров<b class=\"verified\"></b></h2>\n",
      "<div class=\"pp_last_activity \">\n",
      "<span class=\"pp_last_activity_text\"><span class=\"pp_last_activity_offline_text\">заходил сегодня в 0:22</span></span>\n",
      "</div>\n",
      "<div class=\"pp_status\">道德經</div>\n",
      "<div class=\"pp_info\">33 года, Санкт-Петербург</div>\n",
      "</div>\n",
      "<div class=\"op_block\"><a class=\"wide_link pp_auth_link\" href=\"/login?to=d3JpdGUx\">Чтобы отправить сообщение <span class=\"pp_auth_link_a\">Павлу</span>, Вам необходимо <b>войти</b>.</a></div>\n",
      "</div>\n",
      "<div class=\"ipanel bl_cont\">\n",
      "<div class=\"profile_info\"><h4 class=\"slim_header\">Информация</h4><div class=\"profile_info_cont\"><div><dl class=\"pinfo_row _pinfo\"><dt>День рождения:</dt><dd>10 октября 1984 г.</dd></dl><dl class=\"pinfo_row\"><dt>Место работы:</dt><dd>Telegram</dd></dl></div> <div class=\"pinfo_row\"><a class=\"wide_link al_pinfo\" href=\"/durov?act=info\">Полная информация »</a></div></div></div><a name=\"menu\"></a><div class=\"profile_info\"><h4 class=\"slim_header\">Другое</h4><div class=\"profile_info_cont profile_info_custom\"><ul class=\"profile_menu\">\n",
      "<li><a href=\"/albums1\" class=\"pm_item\">Фотографии <em class=\"pm_counter\">244</em></a></li><li><a href=\"/durov?act=fans\" class=\"pm_item\">Подписчики <em class=\"pm_counter\">5<span class=\"num_delim\"> </span>889<span class=\"num_delim\"> </span>796</em></a></li><li><a href=\"/videos1\" class=\"pm_item\">Видео <em class=\"pm_counter\">1</em></a></li><li><a name=\"actions\"></a><div class=\"profile_info\"><h4 class=\"slim_header\">Действия</h4><div class=\"profile_info_cont profile_info_custom\"><ul class=\"context_menu\">\n",
      "<li><a href=\"/durov?search=1\" class=\"cm_item bli\"><span class=\"cm_label\">Поиск по записям</span></a></li>\n",
      "</ul></div></div></li>\n",
      "</ul></div></div>\n",
      "<a name=\"wall\"></a>\n",
      "<h4 class=\"slim_header\">261 запись</h4>\n",
      "<a name=\"posts\"></a>\n",
      "<div class=\"wall_posts upanel bl_cont\">\n",
      "<div class=\"wall_item\">\n",
      "<a class=\"post__anchor anchor\" name=\"post1_2048795\"></a>\n",
      "<div class=\"wi_head\">\n",
      "<a href=\"/durov\"><img src=\"https://pp.userapi.com/c836333/v836333001/31193/dNxZpRF-z_M.jpg\" class=\"wi_img\" /></a>\n",
      "<div class=\"wi_cont\">\n",
      "<div class=\"wi_author\"><a class=\"pi_author\" href=\"/durov\"data-post-owner-type=\"user\">Павел Дуров</a> </div>\n",
      "<div class=\"wi_info\"><a class=\"wi_date\" href=\"/wall1_2048795\">10 окт в 23:59</a></div>\n",
      "</div>\n",
      "</div>\n",
      "<div class=\"wi_body\">\n",
      "<div class=\"pi_text\"> <span>Спасибо всем, кто поздравил с 33-летием. Во времена управления ВКонтакте я любил масштабно отметить 10 октября, так как этот день был еще и годовщиной основания компании.<br/><br/>После ухода из ВК большого повода собирать гостей уже нет,</span><a href=\"/wall1_2048795\" class=\"pi_text_more\" onclick=\"this.nextSibling.style.display='inline';this.style.display='none';return false;\">Показать полностью…</a><span style=\"display:none\"> поэтому последние пару лет я ухожу от классического празднования дня рождения, фокусируясь на рабочих процессах. <br/><br/>Так было в прошлом году, когда мы с разработчиками уединились в бывшем мужском монастыре для продуктового марш-броска. Схожим образом вышло и в этом году. Cегодня мы запускали обновление Telegram – версию 4.4 с трансляцией геопозиции в реальном времени, новым музыкальным плеером и поддержкой нескольких новых языков.<br/><br/>В частности, интерфейс Telegram теперь доступен на русском и украинском. Это стало возможным благодаря нашей новой платформе <a href=\"/away.php?to=http%3A%2F%2Ftranslations.telegram.org&post=1_2048795\" target=\"_blank\">translations.telegram.org</a>, которая позволяет всем желающим совместно работать над переводом интерфейса Telegram на другие языки – и моментально применять изменения.<br/><br/>Таким образом, сегодня родился “русский” (а также украинский, французский, индонезийский и малайский) Telegram. Через год уже будет, что отметить.</span></div>\n",
      "<div class=\"wi_buttons\"><div class=\"wi_buttons_wrap\"><span class=\"like_wrap\"><a class=\"item_like _i\" href=\"/like?act=add&object=wall1_2048795&from=durov&hash=df176546ca9fe605e8&wide=1\"><i class=\"i_like\"></i><b class=\"v_like\" >16K</b></a><a class=\"item_share _i\" href=\"/like?act=publish&object=wall1_2048795&from=durov\"><i class=\"i_share\"></i><b class=\"v_share\">528</b></a></span><a class=\"item_replies _i\" href=\"/wall1_2048795?post_add#post_add\"><i class=\"i_replies\"></i><b class=\"v_replies\">2.4K</b></a><span class=\"item_views \"><i class=\"i_views\"></i><b class=\"v_views\">572K</b></span></div></div>\n",
      "</div>\n",
      "</div> <div class=\"wall_item\">\n",
      "<a class=\"post__anchor anchor\" name=\"post1_2040762\"></a>\n",
      "<div class=\"wi_head\">\n",
      "<a href=\"/durov\"><img src=\"https://pp.userapi.com/c836333/v836333001/31193/dNxZpRF-z_M.jpg\" class=\"wi_img\" /></a>\n",
      "<div class=\"wi_cont\">\n",
      "<div class=\"wi_author\"><a class=\"pi_author\" href=\"/durov\"data-post-owner-type=\"user\">Павел Дуров</a> </div>\n",
      "<div class=\"wi_info\"><a class=\"wi_date\" href=\"/wall1_2040762\">10 окт в 2:00</a></div>\n",
      "</div>\n",
      "</div>\n",
      "<div class=\"wi_body\">\n",
      "<div class=\"pi_text\"> <span>7 вещей, от которых я отказался много лет назад, – и от которых рекомендую отказаться всем, кто занимается созиданием:<br/><br/>1) Алкоголь.<br/>2) Мясо животных.<br/>3) Таблетки и любые продукты фармацевтики.</span><a href=\"/wall1_2040762\" class=\"pi_text_more\" onclick=\"this.nextSibling.style.display='inline';this.style.display='none';return false;\">Показать полностью…</a><span style=\"display:none\"><br/>4) Никотин и другие наркотические вещества.<br/>5) Кофе, черный и зеленый чай, энергетики.<br/>6) Фаст-фуд, сахар, газированные напитки.<br/>7) Телевидение и его аналоги.<br/><br/>Когда-нибудь я подробно опишу причины отказа от каждого из этих пунктов. Если коротко: все они вызывают привыкание и влияют на сознание. <br/><br/>Некоторые молодые люди чувствуют необходимость вести здоровый образ жизни, но ломаются под давлением социума. Им говорят: “Так принято”, “Иначе нельзя”, “Это неуважение”.<br/><br/>Я пишу это, чтобы показать: “так” можно. Если Вы ощущаете, что этот путь – правильный, игнорируйте Ваше окружение. <br/><br/>Общество, традиции которого построены на самоотравлении, не имеет будущего. Мы вполне можем строить нашу жизнь и наш мир на других ценностях – ценностях созидания, саморазвития и трудолюбия.</span></div>\n",
      "<div class=\"wi_buttons\"><div class=\"wi_buttons_wrap\"><span class=\"like_wrap\"><a class=\"item_like _i\" href=\"/like?act=add&object=wall1_2040762&from=durov&hash=dc205192332f2b5a23&wide=1\"><i class=\"i_like\"></i><b class=\"v_like\" >46K</b></a><a class=\"item_share _i\" href=\"/like?act=publish&object=wall1_2040762&from=durov\"><i class=\"i_share\"></i><b class=\"v_share\">6.9K</b></a></span><a class=\"item_replies _i\" href=\"/wall1_2040762?post_add#post_add\"><i class=\"i_replies\"></i><b class=\"v_replies\">9K</b></a><span class=\"item_views \"><i class=\"i_views\"></i><b class=\"v_views\">2.9M</b></span></div></div>\n",
      "</div>\n",
      "</div> <div class=\"wall_item\">\n",
      "<a class=\"post__anchor anchor\" name=\"post1_2037108\"></a>\n",
      "<div class=\"wi_head\">\n",
      "<a href=\"/durov\"><img src=\"https://pp.userapi.com/c836333/v836333001/31193/dNxZpRF-z_M.jpg\" class=\"wi_img\" /></a>\n",
      "<div class=\"wi_cont\">\n",
      "<div class=\"wi_author\"><a class=\"pi_author\" href=\"/durov\"data-post-owner-type=\"user\">Павел Дуров</a> </div>\n",
      "<div class=\"wi_info\"><a class=\"wi_date\" href=\"/wall1_2037108\">8 окт в 21:50</a></div>\n",
      "</div>\n",
      "</div>\n",
      "<div class=\"wi_body\">\n",
      "<div class=\"pi_text\">Согласен с Юрием: русские технологии – лучшие. Жаль, что из-за непродуманных законов русское не всегда конвертируется в российское. <br/><br/>Пока на локальном уровне будут существовать ограничения и риски, бизнес будет уходить в те юрисдикции, где их нет. Надеюсь, когда-нибудь эти ограничения будут сняты, и Россия сможет занять в мире свое подобающее место – место глобального технологического лидера.</div>\n",
      "<div class=\"pi_medias thumbs_list thumbs_list1\"> <div class=\"medias_thumbs medias_thumbs_map\"><div class=\"thumbs_map_wrap\" style=\"width: 100%;\"><div class=\"thumbs_map_helper\" style=\"padding-top: 54.5455%;\"><div class=\"thumbs_map fill\"><a href=\"/video1_456239019?list=ab64ba890e079ff921&from=wall1_2037108\" aria-label=\" Юрий Дудь про русское\" style=\"width: 100%; height: 100%; margin: 0 0% 0% 0;\" class=\"thumb_map thumb_map_wide thumb_map_l\"><span class=\"mt_label mt_dur\">0:07</span><div style=\"margin-top: -10.1415%; background-image: url(https://pp.userapi.com/c840734/v840734244/119d7/OS2vDV0ivCw.jpg);\" class=\"thumb_map_img thumb_map_img_as_div\" ></div></a></div></div></div></div></div>\n",
      "<div class=\"wi_buttons\"><div class=\"wi_buttons_wrap\"><span class=\"like_wrap\"><a class=\"item_like _i\" href=\"/like?act=add&object=wall1_2037108&from=durov&hash=a2a5bab0786feee21b&wide=1\"><i class=\"i_like\"></i><b class=\"v_like\" >12K</b></a><a class=\"item_share _i\" href=\"/like?act=publish&object=wall1_2037108&from=durov\"><i class=\"i_share\"></i><b class=\"v_share\">555</b></a></span><a class=\"item_replies _i\" href=\"/wall1_2037108?post_add#post_add\"><i class=\"i_replies\"></i><b class=\"v_replies\">2.9K</b></a><span class=\"item_views \"><i class=\"i_views\"></i><b class=\"v_views\">1.9M</b></span></div></div>\n",
      "</div>\n",
      "</div> <div class=\"wall_item\">\n",
      "<a class=\"post__anchor anchor\" name=\"post1_2020494\"></a>\n",
      "<div class=\"wi_head\">\n",
      "<a href=\"/durov\"><img src=\"https://pp.userapi.com/c836333/v836333001/31193/dNxZpRF-z_M.jpg\" class=\"wi_img\" /></a>\n",
      "<div class=\"wi_cont\">\n",
      "<div class=\"wi_author\"><a class=\"pi_author\" href=\"/durov\"data-post-owner-type=\"user\">Павел Дуров</a> </div>\n",
      "<div class=\"wi_info\"><a class=\"wi_date\" href=\"/wall1_2020494\">30 сен в 4:31</a></div>\n",
      "</div>\n",
      "</div>\n",
      "<div class=\"wi_body\">\n",
      "<div class=\"pi_text\"> <span>Не заставил себя долго ждать пример &quot;неточного перевода&quot; моих сообщений российскими СМИ. Вчера в своем англоязычном канале я рассказал о том, что Telegram продолжит предоставлять сервис безопасного общения на проблемных рынках вроде России и Ирана,</span><a href=\"/wall1_2020494\" class=\"pi_text_more\" onclick=\"this.nextSibling.style.display='inline';this.style.display='none';return false;\">Показать полностью…</a><span style=\"display:none\"> несмотря на давление регуляторов и угрозу блокировки (&quot;we’ll continue providing secure messaging to users in these markets...&quot;). <br/><br/>А в пятницу утром российские СМИ вышли с прямо противоположными заголовками: &quot;Дуров сообщил о готовности закрыть Telegram&quot;, &quot;Дуров пригрозил закрыть Telegram в России&quot;, &quot;Павел Дуров пригрозил оставить Россию без Telegram&quot; – и тому подобные примеры дезинформации. <br/><br/>Думаю, эта ситуация косвенно показывает, какие из русскоязычных СМИ заслуживают доверия, а какие стоит избегать. Отмечу некоторые издания, которые вышли с корректными заголовками: Meduza (&quot;Дуров пообещал обеспечить пользователям в России и Иране защищенный доступ в Telegram&quot;), Ведомости (&quot;Дуров назвал бесперспективными угрозы властей России и Ирана&quot;), ДП (&quot;Дуров в ответ на претензии ФСБ пообещал защитить анонимность пользователей в России&quot;). <br/><br/>Тщательно выбирайте источники новостей – интенсивность информационной войны будет только нарастать.</span></div>\n",
      "<div class=\"wi_buttons\"><div class=\"wi_buttons_wrap\"><span class=\"like_wrap\"><a class=\"item_like _i\" href=\"/like?act=add&object=wall1_2020494&from=durov&hash=b3b84a0bd925fad8b5&wide=1\"><i class=\"i_like\"></i><b class=\"v_like\" >27K</b></a><a class=\"item_share _i\" href=\"/like?act=publish&object=wall1_2020494&from=durov\"><i class=\"i_share\"></i><b class=\"v_share\">1.7K</b></a></span><a class=\"item_replies _i\" href=\"/wall1_2020494?post_add#post_add\"><i class=\"i_replies\"></i><b class=\"v_replies\">12K</b></a><span class=\"item_views \"><i class=\"i_views\"></i><b class=\"v_views\">3.5M</b></span></div></div>\n",
      "</div>\n",
      "</div> <div class=\"wall_item\">\n",
      "<a class=\"post__anchor anchor\" name=\"post1_2017834\"></a>\n",
      "<div class=\"wi_head\">\n",
      "<a href=\"/durov\"><img src=\"https://pp.userapi.com/c836333/v836333001/31193/dNxZpRF-z_M.jpg\" class=\"wi_img\" /></a>\n",
      "<div class=\"wi_cont\">\n",
      "<div class=\"wi_author\"><a class=\"pi_author\" href=\"/durov\"data-post-owner-type=\"user\">Павел Дуров</a> </div>\n",
      "<div class=\"wi_info\"><a class=\"wi_date\" href=\"/wall1_2017834\">28 сен в 22:48</a></div>\n",
      "</div>\n",
      "</div>\n",
      "<div class=\"wi_body\">\n",
      "<div class=\"pi_text\">Российские СМИ часто цитируют неточные переводы того, что я публикую в Твиттере и своем канале. Если Вы знаете английский и Вам интересно читать оригиналы моих постов, есть смысл подписаться на мой канал – <a href=\"/away.php?to=http%3A%2F%2Ft.me%2Fdurov&post=1_2017834\" target=\"_blank\">http://t.me/durov</a></div>\n",
      "<div class=\"pi_medias\"> <div class=\"medias_link_thumbed -medias_link_thumbed_small\">\n",
      "<a class=\"-filler\" href=\"/away.php?to=http%3A%2F%2Ft.me%2Fdurov&post=1_2017834&el=snippet\" target=\"_blank\"></a><div class=\"mlt_thumb\" style=\"background-image:url(https://pp.userapi.com/c639627/v639627261/47b85/aec7KyjapCM.jpg)\"></div><a class=\"mlt_header\" href=\"/away.php?to=http%3A%2F%2Ft.me%2Fdurov&post=1_2017834&el=snippet\" target=\"_blank\"> <div class=\"mlt_title\">Durov&#39;s Channel</div> <div class=\"mlt_link\">t.me</div></a>\n",
      "<div class=\"mlt_cont\">\n",
      "<div class=\"mlt_desc\">This is where I post thoughts about Telegram in a slightly less formal and more direct way than in the official Telegram..</div>\n",
      "</div>\n",
      "</div></div>\n",
      "<div class=\"wi_buttons\"><div class=\"wi_buttons_wrap\"><span class=\"like_wrap\"><a class=\"item_like _i\" href=\"/like?act=add&object=wall1_2017834&from=durov&hash=6a3ab6d99e9897b946&wide=1\"><i class=\"i_like\"></i><b class=\"v_like\" >4.5K</b></a><a class=\"item_share _i\" href=\"/like?act=publish&object=wall1_2017834&from=durov\"><i class=\"i_share\"></i><b class=\"v_share\">112</b></a></span><a class=\"item_replies _i\" href=\"/wall1_2017834?post_add#post_add\"><i class=\"i_replies\"></i><b class=\"v_replies\">2.5K</b></a><span class=\"item_views \"><i class=\"i_views\"></i><b class=\"v_views\">971K</b></span></div></div>\n",
      "</div>\n",
      "</div>\n",
      "<div class=\"show_more_wrap\"><a class=\"show_more\" href=\"/durov?offset=5&own=1#posts\">Показать ещё</a></div>\n",
      "</div>\n",
      "</div>\n",
      "</div></div>\n",
      "<div class=\"basis__footer mfoot\" id=\"mfoot\"><div class=\"pfoot\">\n",
      "<ul id=\"footer_menu\" class=\"footer_menu\">\n",
      "<li class=\"fm_row\"><a class=\"fm_item\" href=\"/\">На главную</a></li>\n",
      "<li class=\"fm_row\"><a id=\"fv_link\" class=\"fm_item fv_link\" href=\"https://vk.com/durov?_fm=profile&_fm2=1\">Полная версия</a></li>\n",
      "</ul>\n",
      "</div></div>\n",
      "<div class=\"_cntrs\" style=\"height:0;overflow:hidden;\">\n",
      "<img width=\"1\" height=\"1\" src=\"//counter.yadro.ru/hit?uhttps%3A%2F%2Fm.vk.com%2Fdurov;r;87238196\" alt=\"\" align=\"left\" />\n",
      "<img width=\"1\" height=\"1\" src=\"//sb.scorecardresearch.com/p?c1=2&c2=13765216&c3=&c4=https%3A%2F%2Fm.vk.com%2Fdurov&c5=&c9=&c15=&cv=2.0&cj=1&rn=87238196\" alt=\"\" align=\"left\" />\n",
      "<img src=\"//top-fwz1.mail.ru/counter?id=2579437;pid=0;r=\" style=\"border:0;\" height=\"1\" width=\"1\" />\n",
      "</div>\n",
      "</div>\n",
      "</div>\n",
      "</div>\n",
      "</div>\n",
      "<script type=\"text/javascript\">\n",
      "<!--\n",
      "parent&&parent!=window&&(document.getElementsByTagName('body')[0].innerHTML='');\n",
      "//-->\n",
      "</script>\n",
      "<div id=\"vk_utils\"></div>\n",
      "<div id=\"z\"></div>\n",
      "<div id=\"vk_bottom\"></div>\n",
      "</body>\n",
      "</html>\n"
     ]
    }
   ],
   "source": [
    "print(resp.text)"
   ]
  },
  {
   "cell_type": "code",
   "execution_count": 64,
   "metadata": {
    "collapsed": true
   },
   "outputs": [],
   "source": [
    "resp = requests.get('https://api.vk.com/method/users.get?user_ids=1')"
   ]
  },
  {
   "cell_type": "code",
   "execution_count": 65,
   "metadata": {},
   "outputs": [
    {
     "data": {
      "text/plain": [
       "<Response [200]>"
      ]
     },
     "execution_count": 65,
     "metadata": {},
     "output_type": "execute_result"
    }
   ],
   "source": [
    "resp"
   ]
  },
  {
   "cell_type": "code",
   "execution_count": 66,
   "metadata": {},
   "outputs": [
    {
     "data": {
      "text/plain": [
       "'{\"response\":[{\"uid\":1,\"first_name\":\"Павел\",\"last_name\":\"Дуров\"}]}'"
      ]
     },
     "execution_count": 66,
     "metadata": {},
     "output_type": "execute_result"
    }
   ],
   "source": [
    "resp.text"
   ]
  },
  {
   "cell_type": "code",
   "execution_count": null,
   "metadata": {
    "collapsed": true
   },
   "outputs": [],
   "source": []
  }
 ],
 "metadata": {
  "kernelspec": {
   "display_name": "Python 3",
   "language": "python",
   "name": "python3"
  },
  "language_info": {
   "codemirror_mode": {
    "name": "ipython",
    "version": 3
   },
   "file_extension": ".py",
   "mimetype": "text/x-python",
   "name": "python",
   "nbconvert_exporter": "python",
   "pygments_lexer": "ipython3",
   "version": "3.6.2"
  }
 },
 "nbformat": 4,
 "nbformat_minor": 2
}
